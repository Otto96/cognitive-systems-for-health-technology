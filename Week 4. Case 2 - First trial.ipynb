{
 "cells": [
  {
   "cell_type": "markdown",
   "metadata": {},
   "source": [
    "# Week 4. Case 2 - First trial\n",
    "Cognitive Systems for Health Technology Applications<br>\n",
    "Sakari Lukkarinen & Juha Kopu, Last edited 7.2.2018<br>\n",
    "[Helsinki Metropolia University of Applied Sciences](http://www.metropolia.fi/en)"
   ]
  },
  {
   "cell_type": "markdown",
   "metadata": {},
   "source": [
    "## Objectives\n",
    "The aims of this first exercise are to get familiar how to\n",
    "- build convolutional neural network\n",
    "- image data generators to preprocess the data\n",
    "- use fit_generator to train the model in batches"
   ]
  },
  {
   "cell_type": "markdown",
   "metadata": {},
   "source": [
    "## Import libraries"
   ]
  },
  {
   "cell_type": "code",
   "execution_count": 1,
   "metadata": {},
   "outputs": [
    {
     "name": "stderr",
     "output_type": "stream",
     "text": [
      "Using TensorFlow backend.\n"
     ]
    }
   ],
   "source": [
    "import numpy as np\n",
    "import matplotlib.pyplot as plt\n",
    "import keras\n",
    "from keras import layers\n",
    "from keras import models\n",
    "\n",
    "%matplotlib inline"
   ]
  },
  {
   "cell_type": "markdown",
   "metadata": {},
   "source": [
    "## Building network"
   ]
  },
  {
   "cell_type": "code",
   "execution_count": 2,
   "metadata": {},
   "outputs": [
    {
     "name": "stdout",
     "output_type": "stream",
     "text": [
      "_________________________________________________________________\n",
      "Layer (type)                 Output Shape              Param #   \n",
      "=================================================================\n",
      "conv2d_1 (Conv2D)            (None, 148, 148, 32)      896       \n",
      "_________________________________________________________________\n",
      "max_pooling2d_1 (MaxPooling2 (None, 74, 74, 32)        0         \n",
      "_________________________________________________________________\n",
      "conv2d_2 (Conv2D)            (None, 72, 72, 32)        9248      \n",
      "_________________________________________________________________\n",
      "max_pooling2d_2 (MaxPooling2 (None, 36, 36, 32)        0         \n",
      "_________________________________________________________________\n",
      "conv2d_3 (Conv2D)            (None, 34, 34, 32)        9248      \n",
      "_________________________________________________________________\n",
      "max_pooling2d_3 (MaxPooling2 (None, 17, 17, 32)        0         \n",
      "_________________________________________________________________\n",
      "flatten_1 (Flatten)          (None, 9248)              0         \n",
      "_________________________________________________________________\n",
      "dense_1 (Dense)              (None, 512)               4735488   \n",
      "_________________________________________________________________\n",
      "dense_2 (Dense)              (None, 1)                 513       \n",
      "=================================================================\n",
      "Total params: 4,755,393\n",
      "Trainable params: 4,755,393\n",
      "Non-trainable params: 0\n",
      "_________________________________________________________________\n"
     ]
    }
   ],
   "source": [
    "model = models.Sequential()\n",
    "model.add(layers.Conv2D(32, (3, 3), activation='relu', input_shape=(150, 150, 3)))\n",
    "model.add(layers.MaxPooling2D((2, 2)))\n",
    "model.add(layers.Conv2D(32, (3, 3), activation='relu'))\n",
    "model.add(layers.MaxPooling2D((2, 2)))\n",
    "model.add(layers.Conv2D(32, (3, 3), activation='relu'))\n",
    "model.add(layers.MaxPooling2D((2, 2)))\n",
    "model.add(layers.Flatten())\n",
    "model.add(layers.Dense(512, activation='relu'))\n",
    "model.add(layers.Dense(1, activation='sigmoid'))\n",
    "\n",
    "model.summary()"
   ]
  },
  {
   "cell_type": "code",
   "execution_count": 3,
   "metadata": {},
   "outputs": [],
   "source": [
    "from keras import optimizers\n",
    "\n",
    "# Let's use slower learning rate than by default\n",
    "# https://keras.io/optimizers/\n",
    "\n",
    "model.compile(loss='binary_crossentropy',\n",
    "              optimizer=optimizers.RMSprop(lr=1e-4),\n",
    "              metrics=['acc'])"
   ]
  },
  {
   "cell_type": "markdown",
   "metadata": {},
   "source": [
    "## Data preprocessing"
   ]
  },
  {
   "cell_type": "code",
   "execution_count": 4,
   "metadata": {},
   "outputs": [
    {
     "name": "stdout",
     "output_type": "stream",
     "text": [
      "Found 1031 images belonging to 2 classes.\n",
      "Found 516 images belonging to 2 classes.\n"
     ]
    }
   ],
   "source": [
    "from keras.preprocessing.image import ImageDataGenerator\n",
    "\n",
    "train_dir = \"./dataset2/train\"\n",
    "validation_dir = \"./dataset2/validation\"\n",
    "\n",
    "# All images will be rescaled by 1./255\n",
    "train_datagen = ImageDataGenerator(rescale=1./255)\n",
    "test_datagen = ImageDataGenerator(rescale=1./255)\n",
    "\n",
    "train_generator = train_datagen.flow_from_directory(\n",
    "    # This is the target directory\n",
    "    train_dir,\n",
    "    # All images will be resized to 150x150\n",
    "    target_size=(150, 150),\n",
    "\n",
    "    # We read images in batches\n",
    "    batch_size=16,\n",
    "    \n",
    "    # Since we use binary_crossentropy loss, we need binary labels\n",
    "    class_mode='binary')\n",
    "\n",
    "validation_generator = test_datagen.flow_from_directory(\n",
    "        validation_dir,\n",
    "        target_size=(150, 150),\n",
    "        batch_size=16,\n",
    "        class_mode='binary')"
   ]
  },
  {
   "cell_type": "code",
   "execution_count": 5,
   "metadata": {},
   "outputs": [
    {
     "name": "stdout",
     "output_type": "stream",
     "text": [
      "data batch shape: (16, 150, 150, 3)\n",
      "labels batch shape: (16,)\n",
      "data batch shape: (16, 150, 150, 3)\n",
      "labels batch shape: (16,)\n",
      "data batch shape: (16, 150, 150, 3)\n",
      "labels batch shape: (16,)\n",
      "data batch shape: (16, 150, 150, 3)\n",
      "labels batch shape: (16,)\n",
      "data batch shape: (16, 150, 150, 3)\n",
      "labels batch shape: (16,)\n",
      "data batch shape: (16, 150, 150, 3)\n",
      "labels batch shape: (16,)\n"
     ]
    }
   ],
   "source": [
    "# Testing that train generator works\n",
    "i = 0\n",
    "for data_batch, labels_batch in train_generator:\n",
    "    print('data batch shape:', data_batch.shape)\n",
    "    print('labels batch shape:', labels_batch.shape)\n",
    "    i = i + 1\n",
    "    if i > 5:\n",
    "        break"
   ]
  },
  {
   "cell_type": "code",
   "execution_count": 6,
   "metadata": {},
   "outputs": [
    {
     "data": {
      "text/plain": [
       "array([0., 0., 0., 0., 1., 1., 0., 0., 0., 1., 0., 0., 1., 0., 0., 1.],\n",
       "      dtype=float32)"
      ]
     },
     "execution_count": 6,
     "metadata": {},
     "output_type": "execute_result"
    }
   ],
   "source": [
    "# Check the last labels batch\n",
    "labels_batch"
   ]
  },
  {
   "cell_type": "markdown",
   "metadata": {},
   "source": [
    "## Modeling"
   ]
  },
  {
   "cell_type": "code",
   "execution_count": 7,
   "metadata": {},
   "outputs": [
    {
     "name": "stdout",
     "output_type": "stream",
     "text": [
      "Epoch 1/5\n",
      "10/10 [==============================] - 26s 3s/step - loss: 0.5711 - acc: 0.6625 - val_loss: 0.6019 - val_acc: 0.6813\n",
      "Epoch 2/5\n",
      "10/10 [==============================] - 27s 3s/step - loss: 0.5020 - acc: 0.7250 - val_loss: 0.5453 - val_acc: 0.7063\n",
      "Epoch 3/5\n",
      "10/10 [==============================] - 26s 3s/step - loss: 0.5367 - acc: 0.7188 - val_loss: 0.5077 - val_acc: 0.7875\n",
      "Epoch 4/5\n",
      "10/10 [==============================] - 25s 3s/step - loss: 0.4975 - acc: 0.7500 - val_loss: 0.5823 - val_acc: 0.6824\n",
      "Epoch 5/5\n",
      "10/10 [==============================] - 24s 2s/step - loss: 0.5529 - acc: 0.7312 - val_loss: 0.5555 - val_acc: 0.6813\n"
     ]
    }
   ],
   "source": [
    "# Our first trial is to read only 10 batches per epoch (10x16 = 160 images per epoch)\n",
    "# and run only 5 epochs\n",
    "history = model.fit_generator(\n",
    "      train_generator,\n",
    "      steps_per_epoch = 10,\n",
    "      verbose = 1,\n",
    "      epochs = 5,\n",
    "      validation_data = validation_generator,\n",
    "      validation_steps = 10)\n",
    "\n",
    "# Save the model\n",
    "model.save('case_2_run_1.h5')"
   ]
  },
  {
   "cell_type": "markdown",
   "metadata": {},
   "source": [
    "## Results"
   ]
  },
  {
   "cell_type": "code",
   "execution_count": 8,
   "metadata": {},
   "outputs": [
    {
     "data": {
      "image/png": "[encoded data removed]",
      "text/plain": [
       "<Figure size 432x288 with 1 Axes>"
      ]
     },
     "metadata": {
      "needs_background": "light"
     },
     "output_type": "display_data"
    },
    {
     "data": {
      "image/png": "[encoded data removed]",
      "text/plain": [
       "<Figure size 432x288 with 1 Axes>"
      ]
     },
     "metadata": {
      "needs_background": "light"
     },
     "output_type": "display_data"
    }
   ],
   "source": [
    "acc = history.history['acc']\n",
    "val_acc = history.history['val_acc']\n",
    "loss = history.history['loss']\n",
    "val_loss = history.history['val_loss']\n",
    "\n",
    "epochs = range(len(acc))\n",
    "\n",
    "plt.plot(epochs, acc, 'bo', label='Training acc')\n",
    "plt.plot(epochs, val_acc, 'b', label='Validation acc')\n",
    "plt.title('Training and validation accuracy')\n",
    "plt.legend()\n",
    "\n",
    "plt.figure()\n",
    "\n",
    "plt.plot(epochs, loss, 'bo', label='Training loss')\n",
    "plt.plot(epochs, val_loss, 'b', label='Validation loss')\n",
    "plt.title('Training and validation loss')\n",
    "plt.legend()\n",
    "\n",
    "plt.show()"
   ]
  },
  {
   "cell_type": "markdown",
   "metadata": {
    "collapsed": true
   },
   "source": [
    "## Conclusion\n",
    "If you get here, then everything should work. However, the results are far from good. The best guess (all healthy) would give accuracy about 67% (see the calculation below). First improvements could be to \n",
    "- increase the batch_sizes in the generators\n",
    "- increase the steps_per_epochs and validation_steps\n",
    "- increase the number of epochs,\n",
    "- change the optimizer, and of course\n",
    "- try different model architectures"
   ]
  },
  {
   "cell_type": "code",
   "execution_count": 9,
   "metadata": {},
   "outputs": [
    {
     "name": "stdout",
     "output_type": "stream",
     "text": [
      "Best guess accuracy: 0.6665\n"
     ]
    }
   ],
   "source": [
    "# Best guess calculation\n",
    "# No_symptoms / (No_symptoms + Symptoms)\n",
    "print('Best guess accuracy: {:.4f}'.format(1031/(1031+516)))"
   ]
  },
  {
   "cell_type": "code",
   "execution_count": null,
   "metadata": {},
   "outputs": [],
   "source": []
  }
 ],
 "metadata": {
  "kernelspec": {
   "display_name": "Python 3",
   "language": "python",
   "name": "python3"
  },
  "language_info": {
   "codemirror_mode": {
    "name": "ipython",
    "version": 3
   },
   "file_extension": ".py",
   "mimetype": "text/x-python",
   "name": "python",
   "nbconvert_exporter": "python",
   "pygments_lexer": "ipython3",
   "version": "3.6.7"
  }
 },
 "nbformat": 4,
 "nbformat_minor": 2
}
