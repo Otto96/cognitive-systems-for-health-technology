{
  "nbformat": 4,
  "nbformat_minor": 0,
  "metadata": {
    "colab": {
      "name": "Iris_dataset_example.ipynb",
      "version": "0.3.2",
      "provenance": []
    },
    "kernelspec": {
      "display_name": "Python 3",
      "language": "python",
      "name": "python3"
    }
  },
  "cells": [
    {
      "metadata": {
        "id": "V1XGviwyg-kR",
        "colab_type": "text"
      },
      "cell_type": "markdown",
      "source": [
        "# Classification example 2: the iris dataset"
      ]
    },
    {
      "metadata": {
        "id": "k8NIjf3xg-kW",
        "colab_type": "code",
        "colab": {}
      },
      "cell_type": "code",
      "source": [
        "# Import the necessary libraries\n",
        "\n",
        "import numpy as np\n",
        "import matplotlib.pyplot as plt\n",
        "import pandas as pd"
      ],
      "execution_count": 0,
      "outputs": []
    },
    {
      "metadata": {
        "id": "Gi1LZd9ig-kl",
        "colab_type": "code",
        "colab": {}
      },
      "cell_type": "code",
      "source": [
        "# Download the data with pandas to a data frame\n",
        "\n",
        "fname = 'https://gist.github.com/curran/a08a1080b88344b0c8a7/raw/d546eaee765268bf2f487608c537c05e22e4b221/iris.csv'\n",
        "\n",
        "df = pd.read_csv(fname)"
      ],
      "execution_count": 0,
      "outputs": []
    },
    {
      "metadata": {
        "id": "KghXI_T2g-kt",
        "colab_type": "code",
        "colab": {
          "base_uri": "https://localhost:8080/",
          "height": 206
        },
        "outputId": "42035df6-b2b6-4d3a-a0e9-b7b23851cdb7"
      },
      "cell_type": "code",
      "source": [
        "# Take a look at the first few samples of the data\n",
        "\n",
        "df.head()"
      ],
      "execution_count": 3,
      "outputs": [
        {
          "output_type": "execute_result",
          "data": {
            "text/html": [
              "<div>\n",
              "<style scoped>\n",
              "    .dataframe tbody tr th:only-of-type {\n",
              "        vertical-align: middle;\n",
              "    }\n",
              "\n",
              "    .dataframe tbody tr th {\n",
              "        vertical-align: top;\n",
              "    }\n",
              "\n",
              "    .dataframe thead th {\n",
              "        text-align: right;\n",
              "    }\n",
              "</style>\n",
              "<table border=\"1\" class=\"dataframe\">\n",
              "  <thead>\n",
              "    <tr style=\"text-align: right;\">\n",
              "      <th></th>\n",
              "      <th>sepal_length</th>\n",
              "      <th>sepal_width</th>\n",
              "      <th>petal_length</th>\n",
              "      <th>petal_width</th>\n",
              "      <th>species</th>\n",
              "    </tr>\n",
              "  </thead>\n",
              "  <tbody>\n",
              "    <tr>\n",
              "      <th>0</th>\n",
              "      <td>5.1</td>\n",
              "      <td>3.5</td>\n",
              "      <td>1.4</td>\n",
              "      <td>0.2</td>\n",
              "      <td>setosa</td>\n",
              "    </tr>\n",
              "    <tr>\n",
              "      <th>1</th>\n",
              "      <td>4.9</td>\n",
              "      <td>3.0</td>\n",
              "      <td>1.4</td>\n",
              "      <td>0.2</td>\n",
              "      <td>setosa</td>\n",
              "    </tr>\n",
              "    <tr>\n",
              "      <th>2</th>\n",
              "      <td>4.7</td>\n",
              "      <td>3.2</td>\n",
              "      <td>1.3</td>\n",
              "      <td>0.2</td>\n",
              "      <td>setosa</td>\n",
              "    </tr>\n",
              "    <tr>\n",
              "      <th>3</th>\n",
              "      <td>4.6</td>\n",
              "      <td>3.1</td>\n",
              "      <td>1.5</td>\n",
              "      <td>0.2</td>\n",
              "      <td>setosa</td>\n",
              "    </tr>\n",
              "    <tr>\n",
              "      <th>4</th>\n",
              "      <td>5.0</td>\n",
              "      <td>3.6</td>\n",
              "      <td>1.4</td>\n",
              "      <td>0.2</td>\n",
              "      <td>setosa</td>\n",
              "    </tr>\n",
              "  </tbody>\n",
              "</table>\n",
              "</div>"
            ],
            "text/plain": [
              "   sepal_length  sepal_width  petal_length  petal_width species\n",
              "0           5.1          3.5           1.4          0.2  setosa\n",
              "1           4.9          3.0           1.4          0.2  setosa\n",
              "2           4.7          3.2           1.3          0.2  setosa\n",
              "3           4.6          3.1           1.5          0.2  setosa\n",
              "4           5.0          3.6           1.4          0.2  setosa"
            ]
          },
          "metadata": {
            "tags": []
          },
          "execution_count": 3
        }
      ]
    },
    {
      "metadata": {
        "id": "vq8kQSs_g-k6",
        "colab_type": "code",
        "colab": {
          "base_uri": "https://localhost:8080/",
          "height": 206
        },
        "outputId": "1703b5b8-d72c-4723-d2d1-631ff6b3c025"
      },
      "cell_type": "code",
      "source": [
        "df['species'] = df['species'].astype('category').cat.codes\n",
        "df.head()"
      ],
      "execution_count": 4,
      "outputs": [
        {
          "output_type": "execute_result",
          "data": {
            "text/html": [
              "<div>\n",
              "<style scoped>\n",
              "    .dataframe tbody tr th:only-of-type {\n",
              "        vertical-align: middle;\n",
              "    }\n",
              "\n",
              "    .dataframe tbody tr th {\n",
              "        vertical-align: top;\n",
              "    }\n",
              "\n",
              "    .dataframe thead th {\n",
              "        text-align: right;\n",
              "    }\n",
              "</style>\n",
              "<table border=\"1\" class=\"dataframe\">\n",
              "  <thead>\n",
              "    <tr style=\"text-align: right;\">\n",
              "      <th></th>\n",
              "      <th>sepal_length</th>\n",
              "      <th>sepal_width</th>\n",
              "      <th>petal_length</th>\n",
              "      <th>petal_width</th>\n",
              "      <th>species</th>\n",
              "    </tr>\n",
              "  </thead>\n",
              "  <tbody>\n",
              "    <tr>\n",
              "      <th>0</th>\n",
              "      <td>5.1</td>\n",
              "      <td>3.5</td>\n",
              "      <td>1.4</td>\n",
              "      <td>0.2</td>\n",
              "      <td>0</td>\n",
              "    </tr>\n",
              "    <tr>\n",
              "      <th>1</th>\n",
              "      <td>4.9</td>\n",
              "      <td>3.0</td>\n",
              "      <td>1.4</td>\n",
              "      <td>0.2</td>\n",
              "      <td>0</td>\n",
              "    </tr>\n",
              "    <tr>\n",
              "      <th>2</th>\n",
              "      <td>4.7</td>\n",
              "      <td>3.2</td>\n",
              "      <td>1.3</td>\n",
              "      <td>0.2</td>\n",
              "      <td>0</td>\n",
              "    </tr>\n",
              "    <tr>\n",
              "      <th>3</th>\n",
              "      <td>4.6</td>\n",
              "      <td>3.1</td>\n",
              "      <td>1.5</td>\n",
              "      <td>0.2</td>\n",
              "      <td>0</td>\n",
              "    </tr>\n",
              "    <tr>\n",
              "      <th>4</th>\n",
              "      <td>5.0</td>\n",
              "      <td>3.6</td>\n",
              "      <td>1.4</td>\n",
              "      <td>0.2</td>\n",
              "      <td>0</td>\n",
              "    </tr>\n",
              "  </tbody>\n",
              "</table>\n",
              "</div>"
            ],
            "text/plain": [
              "   sepal_length  sepal_width  petal_length  petal_width  species\n",
              "0           5.1          3.5           1.4          0.2        0\n",
              "1           4.9          3.0           1.4          0.2        0\n",
              "2           4.7          3.2           1.3          0.2        0\n",
              "3           4.6          3.1           1.5          0.2        0\n",
              "4           5.0          3.6           1.4          0.2        0"
            ]
          },
          "metadata": {
            "tags": []
          },
          "execution_count": 4
        }
      ]
    },
    {
      "metadata": {
        "id": "PlEfWSIUg-lB",
        "colab_type": "code",
        "colab": {
          "base_uri": "https://localhost:8080/",
          "height": 206
        },
        "outputId": "b9bce328-cc90-4897-cc50-1fe003039d56"
      },
      "cell_type": "code",
      "source": [
        "df.tail()"
      ],
      "execution_count": 5,
      "outputs": [
        {
          "output_type": "execute_result",
          "data": {
            "text/html": [
              "<div>\n",
              "<style scoped>\n",
              "    .dataframe tbody tr th:only-of-type {\n",
              "        vertical-align: middle;\n",
              "    }\n",
              "\n",
              "    .dataframe tbody tr th {\n",
              "        vertical-align: top;\n",
              "    }\n",
              "\n",
              "    .dataframe thead th {\n",
              "        text-align: right;\n",
              "    }\n",
              "</style>\n",
              "<table border=\"1\" class=\"dataframe\">\n",
              "  <thead>\n",
              "    <tr style=\"text-align: right;\">\n",
              "      <th></th>\n",
              "      <th>sepal_length</th>\n",
              "      <th>sepal_width</th>\n",
              "      <th>petal_length</th>\n",
              "      <th>petal_width</th>\n",
              "      <th>species</th>\n",
              "    </tr>\n",
              "  </thead>\n",
              "  <tbody>\n",
              "    <tr>\n",
              "      <th>145</th>\n",
              "      <td>6.7</td>\n",
              "      <td>3.0</td>\n",
              "      <td>5.2</td>\n",
              "      <td>2.3</td>\n",
              "      <td>2</td>\n",
              "    </tr>\n",
              "    <tr>\n",
              "      <th>146</th>\n",
              "      <td>6.3</td>\n",
              "      <td>2.5</td>\n",
              "      <td>5.0</td>\n",
              "      <td>1.9</td>\n",
              "      <td>2</td>\n",
              "    </tr>\n",
              "    <tr>\n",
              "      <th>147</th>\n",
              "      <td>6.5</td>\n",
              "      <td>3.0</td>\n",
              "      <td>5.2</td>\n",
              "      <td>2.0</td>\n",
              "      <td>2</td>\n",
              "    </tr>\n",
              "    <tr>\n",
              "      <th>148</th>\n",
              "      <td>6.2</td>\n",
              "      <td>3.4</td>\n",
              "      <td>5.4</td>\n",
              "      <td>2.3</td>\n",
              "      <td>2</td>\n",
              "    </tr>\n",
              "    <tr>\n",
              "      <th>149</th>\n",
              "      <td>5.9</td>\n",
              "      <td>3.0</td>\n",
              "      <td>5.1</td>\n",
              "      <td>1.8</td>\n",
              "      <td>2</td>\n",
              "    </tr>\n",
              "  </tbody>\n",
              "</table>\n",
              "</div>"
            ],
            "text/plain": [
              "     sepal_length  sepal_width  petal_length  petal_width  species\n",
              "145           6.7          3.0           5.2          2.3        2\n",
              "146           6.3          2.5           5.0          1.9        2\n",
              "147           6.5          3.0           5.2          2.0        2\n",
              "148           6.2          3.4           5.4          2.3        2\n",
              "149           5.9          3.0           5.1          1.8        2"
            ]
          },
          "metadata": {
            "tags": []
          },
          "execution_count": 5
        }
      ]
    },
    {
      "metadata": {
        "id": "aRqBu2FAg-lK",
        "colab_type": "code",
        "colab": {}
      },
      "cell_type": "code",
      "source": [
        "# Convert the data to a NumPy array \n",
        "\n",
        "irises = df.values"
      ],
      "execution_count": 0,
      "outputs": []
    },
    {
      "metadata": {
        "id": "ins9Ekokg-lT",
        "colab_type": "code",
        "colab": {
          "base_uri": "https://localhost:8080/",
          "height": 111
        },
        "outputId": "1a5dac70-db52-4b95-dc21-a8c132eb3bdd"
      },
      "cell_type": "code",
      "source": [
        "# Take a look at the first few samples\n",
        "\n",
        "irises[0:5]"
      ],
      "execution_count": 7,
      "outputs": [
        {
          "output_type": "execute_result",
          "data": {
            "text/plain": [
              "array([[5.1, 3.5, 1.4, 0.2, 0. ],\n",
              "       [4.9, 3. , 1.4, 0.2, 0. ],\n",
              "       [4.7, 3.2, 1.3, 0.2, 0. ],\n",
              "       [4.6, 3.1, 1.5, 0.2, 0. ],\n",
              "       [5. , 3.6, 1.4, 0.2, 0. ]])"
            ]
          },
          "metadata": {
            "tags": []
          },
          "execution_count": 7
        }
      ]
    },
    {
      "metadata": {
        "id": "rV7-DGbRg-lf",
        "colab_type": "code",
        "colab": {}
      },
      "cell_type": "code",
      "source": [
        "# Randomly shuffle the data samples\n",
        "\n",
        "np.random.shuffle(irises)"
      ],
      "execution_count": 0,
      "outputs": []
    },
    {
      "metadata": {
        "id": "o_edYjdcg-lr",
        "colab_type": "code",
        "colab": {}
      },
      "cell_type": "code",
      "source": [
        "# Separate the attributes and the labels\n",
        "\n",
        "samples = irises[:,:4]\n",
        "labels = irises[:,4]"
      ],
      "execution_count": 0,
      "outputs": []
    },
    {
      "metadata": {
        "id": "VSqEPe2Jg-l0",
        "colab_type": "code",
        "colab": {}
      },
      "cell_type": "code",
      "source": [
        "# Convert the string labels to numbers 0, 1 and 2\n",
        "\n",
        "#labels_num = np.zeros(len(labels))\n",
        "#\n",
        "#for i in range(len(labels)):\n",
        "#    if (labels[i] == 'versicolor'):\n",
        "#        labels_num[i] = 1\n",
        "#    elif (labels[i] == 'virginica'):\n",
        "#        labels_num[i] = 2    "
      ],
      "execution_count": 0,
      "outputs": []
    },
    {
      "metadata": {
        "id": "Du66qsv8g-l7",
        "colab_type": "code",
        "colab": {}
      },
      "cell_type": "code",
      "source": [
        "# Construct the one-hot labels\n",
        "\n",
        "from keras.utils import to_categorical\n",
        "\n",
        "one_hot_labels = to_categorical(labels)"
      ],
      "execution_count": 0,
      "outputs": []
    },
    {
      "metadata": {
        "id": "AStsq0RHg-mF",
        "colab_type": "code",
        "colab": {}
      },
      "cell_type": "code",
      "source": [
        "# Separate the data for training and validation purposes\n",
        "\n",
        "train_data = samples[:100]\n",
        "val_data = samples[100:]\n",
        "\n",
        "train_labels = one_hot_labels[:100]\n",
        "val_labels = one_hot_labels[100:]"
      ],
      "execution_count": 0,
      "outputs": []
    },
    {
      "metadata": {
        "id": "8gA5Pf0xg-mK",
        "colab_type": "code",
        "colab": {
          "base_uri": "https://localhost:8080/",
          "height": 225
        },
        "outputId": "1a6528cc-15b2-48a8-b30d-a0b896fd4055"
      },
      "cell_type": "code",
      "source": [
        "# Build the model\n",
        "\n",
        "from keras import models, layers\n",
        "\n",
        "model = models.Sequential()\n",
        "model.add(layers.Dense(10, activation='relu', input_shape=(4,)))\n",
        "model.add(layers.Dense(3, activation='softmax'))\n",
        "\n",
        "model.summary()"
      ],
      "execution_count": 14,
      "outputs": [
        {
          "output_type": "stream",
          "text": [
            "_________________________________________________________________\n",
            "Layer (type)                 Output Shape              Param #   \n",
            "=================================================================\n",
            "dense_1 (Dense)              (None, 10)                50        \n",
            "_________________________________________________________________\n",
            "dense_2 (Dense)              (None, 3)                 33        \n",
            "=================================================================\n",
            "Total params: 83\n",
            "Trainable params: 83\n",
            "Non-trainable params: 0\n",
            "_________________________________________________________________\n"
          ],
          "name": "stdout"
        }
      ]
    },
    {
      "metadata": {
        "id": "r3ElZsGAg-mQ",
        "colab_type": "code",
        "colab": {}
      },
      "cell_type": "code",
      "source": [
        "# Compile the model\n",
        "\n",
        "model.compile(optimizer = 'rmsprop',\n",
        "                loss = 'categorical_crossentropy',\n",
        "                metrics = ['accuracy'])"
      ],
      "execution_count": 0,
      "outputs": []
    },
    {
      "metadata": {
        "id": "SHrisRHtg-mY",
        "colab_type": "code",
        "colab": {
          "base_uri": "https://localhost:8080/",
          "height": 3809
        },
        "outputId": "dc42f65b-aab8-453c-c22b-5744df114b17"
      },
      "cell_type": "code",
      "source": [
        "# Fit the model with the data\n",
        "\n",
        "history = model.fit(train_data, train_labels, epochs = 100, batch_size = 10, \n",
        "                    validation_data = (val_data, val_labels))"
      ],
      "execution_count": 16,
      "outputs": [
        {
          "output_type": "stream",
          "text": [
            "Train on 100 samples, validate on 50 samples\n",
            "Epoch 1/100\n",
            "100/100 [==============================] - 0s 5ms/step - loss: 2.7231 - acc: 0.3100 - val_loss: 1.9342 - val_acc: 0.3800\n",
            "Epoch 2/100\n",
            "100/100 [==============================] - 0s 197us/step - loss: 2.3756 - acc: 0.3100 - val_loss: 1.7621 - val_acc: 0.3800\n",
            "Epoch 3/100\n",
            "100/100 [==============================] - 0s 192us/step - loss: 2.1439 - acc: 0.3100 - val_loss: 1.6234 - val_acc: 0.3400\n",
            "Epoch 4/100\n",
            "100/100 [==============================] - 0s 195us/step - loss: 1.9451 - acc: 0.3000 - val_loss: 1.4957 - val_acc: 0.3200\n",
            "Epoch 5/100\n",
            "100/100 [==============================] - 0s 181us/step - loss: 1.7697 - acc: 0.3000 - val_loss: 1.3821 - val_acc: 0.3200\n",
            "Epoch 6/100\n",
            "100/100 [==============================] - 0s 193us/step - loss: 1.6101 - acc: 0.3000 - val_loss: 1.2772 - val_acc: 0.3200\n",
            "Epoch 7/100\n",
            "100/100 [==============================] - 0s 170us/step - loss: 1.4632 - acc: 0.3000 - val_loss: 1.1774 - val_acc: 0.3200\n",
            "Epoch 8/100\n",
            "100/100 [==============================] - 0s 186us/step - loss: 1.3282 - acc: 0.3000 - val_loss: 1.0871 - val_acc: 0.3200\n",
            "Epoch 9/100\n",
            "100/100 [==============================] - 0s 188us/step - loss: 1.1980 - acc: 0.3000 - val_loss: 1.0079 - val_acc: 0.3200\n",
            "Epoch 10/100\n",
            "100/100 [==============================] - 0s 173us/step - loss: 1.0805 - acc: 0.3000 - val_loss: 0.9337 - val_acc: 0.3400\n",
            "Epoch 11/100\n",
            "100/100 [==============================] - 0s 157us/step - loss: 0.9758 - acc: 0.3100 - val_loss: 0.8706 - val_acc: 0.4000\n",
            "Epoch 12/100\n",
            "100/100 [==============================] - 0s 180us/step - loss: 0.8836 - acc: 0.3800 - val_loss: 0.8152 - val_acc: 0.4800\n",
            "Epoch 13/100\n",
            "100/100 [==============================] - 0s 160us/step - loss: 0.8080 - acc: 0.6400 - val_loss: 0.7708 - val_acc: 0.7800\n",
            "Epoch 14/100\n",
            "100/100 [==============================] - 0s 184us/step - loss: 0.7484 - acc: 0.8400 - val_loss: 0.7379 - val_acc: 0.8600\n",
            "Epoch 15/100\n",
            "100/100 [==============================] - 0s 209us/step - loss: 0.7028 - acc: 0.9600 - val_loss: 0.7085 - val_acc: 0.9400\n",
            "Epoch 16/100\n",
            "100/100 [==============================] - 0s 148us/step - loss: 0.6652 - acc: 0.9500 - val_loss: 0.6786 - val_acc: 0.9400\n",
            "Epoch 17/100\n",
            "100/100 [==============================] - 0s 146us/step - loss: 0.6317 - acc: 0.9700 - val_loss: 0.6569 - val_acc: 0.9400\n",
            "Epoch 18/100\n",
            "100/100 [==============================] - 0s 144us/step - loss: 0.6045 - acc: 0.9700 - val_loss: 0.6352 - val_acc: 0.9400\n",
            "Epoch 19/100\n",
            "100/100 [==============================] - 0s 143us/step - loss: 0.5760 - acc: 0.9600 - val_loss: 0.6111 - val_acc: 0.9400\n",
            "Epoch 20/100\n",
            "100/100 [==============================] - 0s 182us/step - loss: 0.5531 - acc: 0.9600 - val_loss: 0.5910 - val_acc: 0.9400\n",
            "Epoch 21/100\n",
            "100/100 [==============================] - 0s 172us/step - loss: 0.5278 - acc: 0.9700 - val_loss: 0.5763 - val_acc: 0.9400\n",
            "Epoch 22/100\n",
            "100/100 [==============================] - 0s 178us/step - loss: 0.5078 - acc: 0.9600 - val_loss: 0.5505 - val_acc: 0.9400\n",
            "Epoch 23/100\n",
            "100/100 [==============================] - 0s 189us/step - loss: 0.4880 - acc: 0.9700 - val_loss: 0.5332 - val_acc: 0.9400\n",
            "Epoch 24/100\n",
            "100/100 [==============================] - 0s 186us/step - loss: 0.4683 - acc: 0.9700 - val_loss: 0.5159 - val_acc: 0.9400\n",
            "Epoch 25/100\n",
            "100/100 [==============================] - 0s 210us/step - loss: 0.4500 - acc: 0.9700 - val_loss: 0.5041 - val_acc: 0.9400\n",
            "Epoch 26/100\n",
            "100/100 [==============================] - 0s 191us/step - loss: 0.4332 - acc: 0.9600 - val_loss: 0.4878 - val_acc: 0.9400\n",
            "Epoch 27/100\n",
            "100/100 [==============================] - 0s 237us/step - loss: 0.4171 - acc: 0.9600 - val_loss: 0.4728 - val_acc: 0.9400\n",
            "Epoch 28/100\n",
            "100/100 [==============================] - 0s 185us/step - loss: 0.4041 - acc: 0.9600 - val_loss: 0.4551 - val_acc: 0.9400\n",
            "Epoch 29/100\n",
            "100/100 [==============================] - 0s 179us/step - loss: 0.3905 - acc: 0.9600 - val_loss: 0.4489 - val_acc: 0.9400\n",
            "Epoch 30/100\n",
            "100/100 [==============================] - 0s 180us/step - loss: 0.3780 - acc: 0.9600 - val_loss: 0.4343 - val_acc: 0.9400\n",
            "Epoch 31/100\n",
            "100/100 [==============================] - 0s 174us/step - loss: 0.3656 - acc: 0.9600 - val_loss: 0.4266 - val_acc: 0.9400\n",
            "Epoch 32/100\n",
            "100/100 [==============================] - 0s 175us/step - loss: 0.3551 - acc: 0.9600 - val_loss: 0.4161 - val_acc: 0.9400\n",
            "Epoch 33/100\n",
            "100/100 [==============================] - 0s 169us/step - loss: 0.3432 - acc: 0.9600 - val_loss: 0.4131 - val_acc: 0.9200\n",
            "Epoch 34/100\n",
            "100/100 [==============================] - 0s 202us/step - loss: 0.3343 - acc: 0.9600 - val_loss: 0.3970 - val_acc: 0.9400\n",
            "Epoch 35/100\n",
            "100/100 [==============================] - 0s 188us/step - loss: 0.3232 - acc: 0.9600 - val_loss: 0.3781 - val_acc: 0.9400\n",
            "Epoch 36/100\n",
            "100/100 [==============================] - 0s 151us/step - loss: 0.3143 - acc: 0.9600 - val_loss: 0.3778 - val_acc: 0.9400\n",
            "Epoch 37/100\n",
            "100/100 [==============================] - 0s 168us/step - loss: 0.3053 - acc: 0.9600 - val_loss: 0.3713 - val_acc: 0.9400\n",
            "Epoch 38/100\n",
            "100/100 [==============================] - 0s 179us/step - loss: 0.2972 - acc: 0.9600 - val_loss: 0.3574 - val_acc: 0.9400\n",
            "Epoch 39/100\n",
            "100/100 [==============================] - 0s 173us/step - loss: 0.2899 - acc: 0.9600 - val_loss: 0.3490 - val_acc: 0.9400\n",
            "Epoch 40/100\n",
            "100/100 [==============================] - 0s 186us/step - loss: 0.2819 - acc: 0.9600 - val_loss: 0.3434 - val_acc: 0.9400\n",
            "Epoch 41/100\n",
            "100/100 [==============================] - 0s 149us/step - loss: 0.2758 - acc: 0.9600 - val_loss: 0.3406 - val_acc: 0.9400\n",
            "Epoch 42/100\n",
            "100/100 [==============================] - 0s 156us/step - loss: 0.2688 - acc: 0.9700 - val_loss: 0.3329 - val_acc: 0.9400\n",
            "Epoch 43/100\n",
            "100/100 [==============================] - 0s 162us/step - loss: 0.2638 - acc: 0.9600 - val_loss: 0.3288 - val_acc: 0.9400\n",
            "Epoch 44/100\n",
            "100/100 [==============================] - 0s 196us/step - loss: 0.2567 - acc: 0.9600 - val_loss: 0.3168 - val_acc: 0.9400\n",
            "Epoch 45/100\n",
            "100/100 [==============================] - 0s 164us/step - loss: 0.2525 - acc: 0.9700 - val_loss: 0.3163 - val_acc: 0.9400\n",
            "Epoch 46/100\n",
            "100/100 [==============================] - 0s 164us/step - loss: 0.2456 - acc: 0.9600 - val_loss: 0.3112 - val_acc: 0.9400\n",
            "Epoch 47/100\n",
            "100/100 [==============================] - 0s 157us/step - loss: 0.2427 - acc: 0.9700 - val_loss: 0.3097 - val_acc: 0.9400\n",
            "Epoch 48/100\n",
            "100/100 [==============================] - 0s 166us/step - loss: 0.2353 - acc: 0.9700 - val_loss: 0.3059 - val_acc: 0.9400\n",
            "Epoch 49/100\n",
            "100/100 [==============================] - 0s 175us/step - loss: 0.2316 - acc: 0.9700 - val_loss: 0.3062 - val_acc: 0.9400\n",
            "Epoch 50/100\n",
            "100/100 [==============================] - 0s 161us/step - loss: 0.2287 - acc: 0.9600 - val_loss: 0.3006 - val_acc: 0.9400\n",
            "Epoch 51/100\n",
            "100/100 [==============================] - 0s 160us/step - loss: 0.2237 - acc: 0.9600 - val_loss: 0.2970 - val_acc: 0.9400\n",
            "Epoch 52/100\n",
            "100/100 [==============================] - 0s 169us/step - loss: 0.2191 - acc: 0.9600 - val_loss: 0.2809 - val_acc: 0.9400\n",
            "Epoch 53/100\n",
            "100/100 [==============================] - 0s 190us/step - loss: 0.2157 - acc: 0.9700 - val_loss: 0.2801 - val_acc: 0.9400\n",
            "Epoch 54/100\n",
            "100/100 [==============================] - 0s 189us/step - loss: 0.2111 - acc: 0.9600 - val_loss: 0.2708 - val_acc: 0.9400\n",
            "Epoch 55/100\n",
            "100/100 [==============================] - 0s 152us/step - loss: 0.2081 - acc: 0.9700 - val_loss: 0.2733 - val_acc: 0.9400\n",
            "Epoch 56/100\n",
            "100/100 [==============================] - 0s 151us/step - loss: 0.2060 - acc: 0.9600 - val_loss: 0.2702 - val_acc: 0.9400\n",
            "Epoch 57/100\n",
            "100/100 [==============================] - 0s 168us/step - loss: 0.2001 - acc: 0.9600 - val_loss: 0.2663 - val_acc: 0.9400\n",
            "Epoch 58/100\n",
            "100/100 [==============================] - 0s 153us/step - loss: 0.1956 - acc: 0.9700 - val_loss: 0.2508 - val_acc: 0.9400\n",
            "Epoch 59/100\n",
            "100/100 [==============================] - 0s 176us/step - loss: 0.1930 - acc: 0.9600 - val_loss: 0.2451 - val_acc: 0.9400\n",
            "Epoch 60/100\n",
            "100/100 [==============================] - 0s 156us/step - loss: 0.1896 - acc: 0.9900 - val_loss: 0.2582 - val_acc: 0.9400\n",
            "Epoch 61/100\n",
            "100/100 [==============================] - 0s 186us/step - loss: 0.1869 - acc: 0.9700 - val_loss: 0.2511 - val_acc: 0.9400\n",
            "Epoch 62/100\n",
            "100/100 [==============================] - 0s 163us/step - loss: 0.1843 - acc: 0.9900 - val_loss: 0.2568 - val_acc: 0.9400\n",
            "Epoch 63/100\n",
            "100/100 [==============================] - 0s 175us/step - loss: 0.1813 - acc: 0.9800 - val_loss: 0.2495 - val_acc: 0.9400\n",
            "Epoch 64/100\n",
            "100/100 [==============================] - 0s 176us/step - loss: 0.1790 - acc: 0.9800 - val_loss: 0.2507 - val_acc: 0.9400\n",
            "Epoch 65/100\n",
            "100/100 [==============================] - 0s 170us/step - loss: 0.1760 - acc: 0.9900 - val_loss: 0.2536 - val_acc: 0.9400\n",
            "Epoch 66/100\n",
            "100/100 [==============================] - 0s 193us/step - loss: 0.1734 - acc: 0.9700 - val_loss: 0.2468 - val_acc: 0.9400\n",
            "Epoch 67/100\n",
            "100/100 [==============================] - 0s 174us/step - loss: 0.1706 - acc: 0.9800 - val_loss: 0.2426 - val_acc: 0.9400\n",
            "Epoch 68/100\n",
            "100/100 [==============================] - 0s 158us/step - loss: 0.1687 - acc: 0.9700 - val_loss: 0.2345 - val_acc: 0.9400\n",
            "Epoch 69/100\n",
            "100/100 [==============================] - 0s 157us/step - loss: 0.1685 - acc: 0.9800 - val_loss: 0.2301 - val_acc: 0.9400\n",
            "Epoch 70/100\n",
            "100/100 [==============================] - 0s 169us/step - loss: 0.1658 - acc: 0.9600 - val_loss: 0.2296 - val_acc: 0.9400\n",
            "Epoch 71/100\n",
            "100/100 [==============================] - 0s 163us/step - loss: 0.1605 - acc: 0.9800 - val_loss: 0.2335 - val_acc: 0.9400\n",
            "Epoch 72/100\n",
            "100/100 [==============================] - 0s 237us/step - loss: 0.1595 - acc: 0.9800 - val_loss: 0.2249 - val_acc: 0.9400\n",
            "Epoch 73/100\n",
            "100/100 [==============================] - 0s 162us/step - loss: 0.1570 - acc: 0.9900 - val_loss: 0.2174 - val_acc: 0.9400\n",
            "Epoch 74/100\n",
            "100/100 [==============================] - 0s 192us/step - loss: 0.1553 - acc: 0.9900 - val_loss: 0.2232 - val_acc: 0.9400\n",
            "Epoch 75/100\n",
            "100/100 [==============================] - 0s 183us/step - loss: 0.1539 - acc: 0.9800 - val_loss: 0.2198 - val_acc: 0.9400\n",
            "Epoch 76/100\n",
            "100/100 [==============================] - 0s 173us/step - loss: 0.1513 - acc: 0.9900 - val_loss: 0.2210 - val_acc: 0.9400\n",
            "Epoch 77/100\n",
            "100/100 [==============================] - 0s 163us/step - loss: 0.1482 - acc: 0.9900 - val_loss: 0.2329 - val_acc: 0.9400\n",
            "Epoch 78/100\n",
            "100/100 [==============================] - 0s 134us/step - loss: 0.1495 - acc: 0.9700 - val_loss: 0.2201 - val_acc: 0.9400\n",
            "Epoch 79/100\n",
            "100/100 [==============================] - 0s 168us/step - loss: 0.1458 - acc: 0.9800 - val_loss: 0.2129 - val_acc: 0.9400\n",
            "Epoch 80/100\n",
            "100/100 [==============================] - 0s 189us/step - loss: 0.1435 - acc: 0.9800 - val_loss: 0.2076 - val_acc: 0.9400\n",
            "Epoch 81/100\n",
            "100/100 [==============================] - 0s 182us/step - loss: 0.1405 - acc: 0.9900 - val_loss: 0.2209 - val_acc: 0.9400\n",
            "Epoch 82/100\n",
            "100/100 [==============================] - 0s 213us/step - loss: 0.1401 - acc: 0.9800 - val_loss: 0.2035 - val_acc: 0.9400\n",
            "Epoch 83/100\n",
            "100/100 [==============================] - 0s 157us/step - loss: 0.1393 - acc: 0.9800 - val_loss: 0.2031 - val_acc: 0.9400\n",
            "Epoch 84/100\n",
            "100/100 [==============================] - 0s 201us/step - loss: 0.1378 - acc: 0.9800 - val_loss: 0.2006 - val_acc: 0.9400\n",
            "Epoch 85/100\n",
            "100/100 [==============================] - 0s 159us/step - loss: 0.1368 - acc: 0.9900 - val_loss: 0.2045 - val_acc: 0.9400\n",
            "Epoch 86/100\n",
            "100/100 [==============================] - 0s 152us/step - loss: 0.1333 - acc: 0.9800 - val_loss: 0.2044 - val_acc: 0.9400\n",
            "Epoch 87/100\n",
            "100/100 [==============================] - 0s 159us/step - loss: 0.1324 - acc: 0.9800 - val_loss: 0.1952 - val_acc: 0.9400\n",
            "Epoch 88/100\n",
            "100/100 [==============================] - 0s 151us/step - loss: 0.1315 - acc: 0.9700 - val_loss: 0.2004 - val_acc: 0.9400\n",
            "Epoch 89/100\n",
            "100/100 [==============================] - 0s 149us/step - loss: 0.1294 - acc: 0.9800 - val_loss: 0.2024 - val_acc: 0.9400\n",
            "Epoch 90/100\n",
            "100/100 [==============================] - 0s 162us/step - loss: 0.1270 - acc: 0.9800 - val_loss: 0.1886 - val_acc: 0.9400\n",
            "Epoch 91/100\n",
            "100/100 [==============================] - 0s 183us/step - loss: 0.1256 - acc: 0.9800 - val_loss: 0.1949 - val_acc: 0.9400\n",
            "Epoch 92/100\n",
            "100/100 [==============================] - 0s 155us/step - loss: 0.1262 - acc: 0.9800 - val_loss: 0.1886 - val_acc: 0.9400\n",
            "Epoch 93/100\n",
            "100/100 [==============================] - 0s 172us/step - loss: 0.1247 - acc: 0.9800 - val_loss: 0.1925 - val_acc: 0.9400\n",
            "Epoch 94/100\n",
            "100/100 [==============================] - 0s 207us/step - loss: 0.1216 - acc: 0.9800 - val_loss: 0.1984 - val_acc: 0.9400\n",
            "Epoch 95/100\n",
            "100/100 [==============================] - 0s 167us/step - loss: 0.1220 - acc: 0.9800 - val_loss: 0.1861 - val_acc: 0.9400\n",
            "Epoch 96/100\n",
            "100/100 [==============================] - 0s 213us/step - loss: 0.1213 - acc: 0.9900 - val_loss: 0.1879 - val_acc: 0.9400\n",
            "Epoch 97/100\n",
            "100/100 [==============================] - 0s 139us/step - loss: 0.1182 - acc: 0.9800 - val_loss: 0.1829 - val_acc: 0.9400\n",
            "Epoch 98/100\n",
            "100/100 [==============================] - 0s 175us/step - loss: 0.1182 - acc: 0.9900 - val_loss: 0.1956 - val_acc: 0.9400\n",
            "Epoch 99/100\n",
            "100/100 [==============================] - 0s 163us/step - loss: 0.1166 - acc: 0.9800 - val_loss: 0.1930 - val_acc: 0.9400\n",
            "Epoch 100/100\n",
            "100/100 [==============================] - 0s 175us/step - loss: 0.1151 - acc: 0.9800 - val_loss: 0.1821 - val_acc: 0.9400\n"
          ],
          "name": "stdout"
        }
      ]
    },
    {
      "metadata": {
        "id": "Y4nkwFbxg-mo",
        "colab_type": "code",
        "colab": {
          "base_uri": "https://localhost:8080/",
          "height": 361
        },
        "outputId": "f85e20f0-5c00-4b03-a76b-28d5c40a3b3e"
      },
      "cell_type": "code",
      "source": [
        "# Visualize the training process: loss function\n",
        "\n",
        "history_dict = history.history\n",
        "loss_values = history_dict['loss']\n",
        "val_loss_values = history_dict['val_loss']\n",
        "acc_values = history_dict['acc']\n",
        "val_acc_values = history_dict['val_acc']\n",
        "\n",
        "epochs = range(1, len(loss_values)+1)\n",
        "\n",
        "plt.plot(epochs, loss_values, 'bo', label='Training loss')\n",
        "plt.plot(epochs, val_loss_values, 'b', label='Validation loss')\n",
        "plt.xlabel('Epochs')\n",
        "plt.ylabel('Loss')\n",
        "plt.legend()\n",
        "\n",
        "plt.show()"
      ],
      "execution_count": 17,
      "outputs": [
        {
          "output_type": "display_data",
          "data": {
            "image/png": "[encoded data removed]",
            "text/plain": [
              "<Figure size 576x396 with 1 Axes>"
            ]
          },
          "metadata": {
            "tags": []
          }
        }
      ]
    },
    {
      "metadata": {
        "id": "z9IpRPIXg-mw",
        "colab_type": "code",
        "colab": {
          "base_uri": "https://localhost:8080/",
          "height": 361
        },
        "outputId": "27b2976c-d7b7-4064-f19f-36536b642a26"
      },
      "cell_type": "code",
      "source": [
        "# Training & validation ccuracy\n",
        "\n",
        "plt.plot(epochs, acc_values, 'bo', label='Training acc')\n",
        "plt.plot(epochs, val_acc_values, 'b', label='Validation acc')\n",
        "plt.xlabel('Epochs')\n",
        "plt.ylabel('Accuracy')\n",
        "plt.legend()\n",
        "plt.show()"
      ],
      "execution_count": 18,
      "outputs": [
        {
          "output_type": "display_data",
          "data": {
            "image/png": "[encoded data removed]",
            "text/plain": [
              "<Figure size 576x396 with 1 Axes>"
            ]
          },
          "metadata": {
            "tags": []
          }
        }
      ]
    },
    {
      "metadata": {
        "id": "AOnTHLHTg-m-",
        "colab_type": "code",
        "colab": {
          "base_uri": "https://localhost:8080/",
          "height": 111
        },
        "outputId": "2aa0e9c7-28cd-4459-8458-905f1fee8051"
      },
      "cell_type": "code",
      "source": [
        "# Compute some predictions with the trained model \n",
        "\n",
        "# Display with floating point 3 decimals\n",
        "np.set_printoptions(precision=3)\n",
        "print(model.predict(val_data[:5]))"
      ],
      "execution_count": 25,
      "outputs": [
        {
          "output_type": "stream",
          "text": [
            "[[9.891e-01 1.094e-02 5.125e-07]\n",
            " [9.687e-06 3.919e-02 9.608e-01]\n",
            " [2.586e-06 3.739e-02 9.626e-01]\n",
            " [1.793e-06 1.421e-02 9.858e-01]\n",
            " [1.934e-03 6.881e-01 3.100e-01]]\n"
          ],
          "name": "stdout"
        }
      ]
    },
    {
      "metadata": {
        "id": "61wn_WE5hcjF",
        "colab_type": "code",
        "colab": {
          "base_uri": "https://localhost:8080/",
          "height": 111
        },
        "outputId": "66888507-4103-4cf2-c133-48ccefc0d745"
      },
      "cell_type": "code",
      "source": [
        " # Display with fixed point 3 decimal\n",
        " np.set_printoptions(formatter={'float': lambda x: \"{0:0.3f}\".format(x)})\n",
        " model.predict(val_data[:5])"
      ],
      "execution_count": 26,
      "outputs": [
        {
          "output_type": "execute_result",
          "data": {
            "text/plain": [
              "array([[0.989, 0.011, 0.000],\n",
              "       [0.000, 0.039, 0.961],\n",
              "       [0.000, 0.037, 0.963],\n",
              "       [0.000, 0.014, 0.986],\n",
              "       [0.002, 0.688, 0.310]], dtype=float32)"
            ]
          },
          "metadata": {
            "tags": []
          },
          "execution_count": 26
        }
      ]
    },
    {
      "metadata": {
        "id": "OAa081Nwg-nK",
        "colab_type": "code",
        "colab": {
          "base_uri": "https://localhost:8080/",
          "height": 111
        },
        "outputId": "7a059d22-fc58-4bd3-bd5d-9e8effccc851"
      },
      "cell_type": "code",
      "source": [
        "# Compare the above predictions with the true labels\n",
        "\n",
        "val_labels[:5]"
      ],
      "execution_count": 27,
      "outputs": [
        {
          "output_type": "execute_result",
          "data": {
            "text/plain": [
              "array([[1.000, 0.000, 0.000],\n",
              "       [0.000, 0.000, 1.000],\n",
              "       [0.000, 0.000, 1.000],\n",
              "       [0.000, 0.000, 1.000],\n",
              "       [0.000, 1.000, 0.000]], dtype=float32)"
            ]
          },
          "metadata": {
            "tags": []
          },
          "execution_count": 27
        }
      ]
    },
    {
      "metadata": {
        "id": "k-ttIFGpiGKS",
        "colab_type": "code",
        "colab": {}
      },
      "cell_type": "code",
      "source": [
        ""
      ],
      "execution_count": 0,
      "outputs": []
    }
  ]
}