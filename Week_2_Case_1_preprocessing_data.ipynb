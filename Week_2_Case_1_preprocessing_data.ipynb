{
  "nbformat": 4,
  "nbformat_minor": 0,
  "metadata": {
    "colab": {
      "name": "Week 2. Case 1 preprocessing data.ipynb",
      "version": "0.3.2",
      "provenance": [],
      "collapsed_sections": [],
      "include_colab_link": true
    },
    "kernelspec": {
      "name": "python3",
      "display_name": "Python 3"
    }
  },
  "cells": [
    {
      "cell_type": "markdown",
      "metadata": {
        "id": "view-in-github",
        "colab_type": "text"
      },
      "source": [
        "<a href=\"https://colab.research.google.com/github/sakluk/cognitive-systems-for-health-technology/blob/master/Week_2_Case_1_preprocessing_data.ipynb\" target=\"_parent\"><img src=\"https://colab.research.google.com/assets/colab-badge.svg\" alt=\"Open In Colab\"/></a>"
      ]
    },
    {
      "metadata": {
        "id": "5d5Xrx60HTAS",
        "colab_type": "text"
      },
      "cell_type": "markdown",
      "source": [
        "# Week 2. Case 1 preprocessing data (drafty notes)\n",
        "Cognitive Systems for Health Technology Applications<br>\n",
        "26.1.2019, Sakari Lukkarinen<br>\n",
        "Helsinki Metropolia University of Applied Sciences"
      ]
    },
    {
      "metadata": {
        "id": "K_aGNZ-HAc5E",
        "colab_type": "text"
      },
      "cell_type": "markdown",
      "source": [
        "## Preprocessing and saving data\n",
        "The following code snippet imports the data and labels from UCI archives, preprocess them and save them to data files. \n",
        "\n",
        "This will simplify your working processes as you need only to preprocess the data once and the recycle the preprocessed data in your network modeling trials.  "
      ]
    },
    {
      "metadata": {
        "id": "t4ZYmiti1p8-",
        "colab_type": "code",
        "outputId": "6e6d823c-8709-4623-8152-3a981feef0be",
        "colab": {
          "base_uri": "https://localhost:8080/",
          "height": 36
        }
      },
      "cell_type": "code",
      "source": [
        "# Import libraries\n",
        "import numpy as np\n",
        "import pandas as pd\n",
        "from keras.utils import to_categorical\n",
        "\n",
        "# Import data\n",
        "url = r'http://archive.ics.uci.edu/ml/machine-learning-databases/heart-disease/processed.cleveland.data'\n",
        "dataframe = pd.read_csv(url, \n",
        "                        sep = ',', \n",
        "                        header = None, \n",
        "                        index_col = None,\n",
        "                        na_values = '?')\n",
        "\n",
        "# Add column names\n",
        "name_list = ['age', 'sex', 'cp','trestbps', 'chol', 'fbs','restecg',\n",
        "             'thalac','exang','oldpeak','slope','ca','thal','num']\n",
        "dataframe.columns = name_list\n",
        "\n",
        "# Fill missing data with columnwise median values\n",
        "dataframe = dataframe.fillna(dataframe.median())\n",
        "\n",
        "# Select the data (input) columns\n",
        "data_list = ['age', 'sex', 'cp','trestbps', 'chol', 'fbs','restecg',\n",
        "             'thalac','exang','oldpeak','slope','ca','thal']\n",
        "data = dataframe[data_list]\n",
        "\n",
        "# Scale the data\n",
        "data_min = data.min()\n",
        "data_max = data.max()\n",
        "data_norm = (data - data_min)/(data_max - data_min)\n",
        "\n",
        "# Save the data\n",
        "np.save('case_1_data.npy', data_norm)\n",
        "\n",
        "# Select the labels (output)\n",
        "labels = dataframe['num']\n",
        "\n",
        "# Code labels to categorical output\n",
        "one_hot_labels = to_categorical(labels)\n",
        "\n",
        "# Save categorical (one hot coded) labels\n",
        "np.save('case_1_one_hot_labels.npy', one_hot_labels)\n",
        "\n",
        "# Make binary labels\n",
        "bin_labels = 1.0*(labels > 0.0)\n",
        "\n",
        "# Save binary labels\n",
        "np.save('case_1_bin_labels.npy', bin_labels)"
      ],
      "execution_count": 1,
      "outputs": [
        {
          "output_type": "stream",
          "text": [
            "Using TensorFlow backend.\n"
          ],
          "name": "stderr"
        }
      ]
    },
    {
      "metadata": {
        "id": "2It7BlSRKvfH",
        "colab_type": "text"
      },
      "cell_type": "markdown",
      "source": [
        "## Test data loading\n",
        "You can use the following code snippets in your modeling trials to load the preprocessed data  into the Notebook. \n",
        "\n",
        "Note! Check that the data-files are in the same folder as your Notebooks."
      ]
    },
    {
      "metadata": {
        "id": "7EUkcNZSbJqp",
        "colab_type": "code",
        "colab": {
          "base_uri": "https://localhost:8080/",
          "height": 470
        },
        "outputId": "dae42500-f2b0-417a-f37a-52d5c9d96a2d"
      },
      "cell_type": "code",
      "source": [
        "# Load data and display first five rows\n",
        "data1 = np.load('case_1_data.npy')\n",
        "print('Data:\\n', data1[:5])\n",
        "\n",
        "# Load one-hot-labels and print first 5 rows\n",
        "hot1 = np.load('case_1_one_hot_labels.npy')\n",
        "print('One-hot-labels:\\n', hot1[:5])\n",
        "\n",
        "# Load binary labels and print first 5 rows\n",
        "bin1 = np.load('case_1_bin_labels.npy')\n",
        "print('Binary labels:\\n', bin1[:5])"
      ],
      "execution_count": 2,
      "outputs": [
        {
          "output_type": "stream",
          "text": [
            "Data:\n",
            " [[0.70833333 1.         0.         0.48113208 0.24429224 1.\n",
            "  1.         0.60305344 0.         0.37096774 1.         0.\n",
            "  0.75      ]\n",
            " [0.79166667 1.         1.         0.62264151 0.3652968  0.\n",
            "  1.         0.28244275 1.         0.24193548 0.5        1.\n",
            "  0.        ]\n",
            " [0.79166667 1.         1.         0.24528302 0.23515982 0.\n",
            "  1.         0.44274809 1.         0.41935484 0.5        0.66666667\n",
            "  1.        ]\n",
            " [0.16666667 1.         0.66666667 0.33962264 0.28310502 0.\n",
            "  0.         0.88549618 0.         0.56451613 1.         0.\n",
            "  0.        ]\n",
            " [0.25       0.         0.33333333 0.33962264 0.17808219 0.\n",
            "  1.         0.77099237 0.         0.22580645 0.         0.\n",
            "  0.        ]]\n",
            "One-hot-labels:\n",
            " [[1. 0. 0. 0. 0.]\n",
            " [0. 0. 1. 0. 0.]\n",
            " [0. 1. 0. 0. 0.]\n",
            " [1. 0. 0. 0. 0.]\n",
            " [1. 0. 0. 0. 0.]]\n",
            "Binary labels:\n",
            " [0. 1. 1. 0. 0.]\n"
          ],
          "name": "stdout"
        }
      ]
    },
    {
      "metadata": {
        "id": "PH1OktHubgz9",
        "colab_type": "code",
        "colab": {}
      },
      "cell_type": "code",
      "source": [
        "# Good luck!"
      ],
      "execution_count": 0,
      "outputs": []
    }
  ]
}