{
 "cells": [
  {
   "cell_type": "markdown",
   "metadata": {},
   "source": [
    "# Week 6. Reading Case 3 data\n",
    "Cognitive Systems for Health Technology Applications<br>\n",
    "Sakari Lukkarinen & Juha Kopu, 24.2.2018<br>\n",
    "[Helsinki Metropolia University of Applied Sciences](http:/www.metropolia.fi/en)"
   ]
  },
  {
   "cell_type": "markdown",
   "metadata": {},
   "source": [
    "## Processing raw data\n",
    "Based on listing 6.8 (p. 189) Chollet: Deep Learning with Python, 2018."
   ]
  },
  {
   "cell_type": "code",
   "execution_count": 1,
   "metadata": {},
   "outputs": [],
   "source": [
    "import os\n",
    "\n",
    "ohsumed_dir = '../ohsumed-first-20000-docs/'\n",
    "train_dir = os.path.join(ohsumed_dir, 'training')\n",
    "\n",
    "labels = []\n",
    "texts = []\n",
    "\n",
    "# Generate a list L = ['C01', 'C02, ..., 'C023']\n",
    "L = ['C{:02}'.format(n) for n in range(1, 23 + 1)]\n",
    "for label_type in L:\n",
    "    dir_name = os.path.join(train_dir, label_type)\n",
    "    for fname in os.listdir(dir_name):\n",
    "        f = open(os.path.join(dir_name, fname))\n",
    "        texts.append(f.read())\n",
    "        f.close()\n",
    "        i = L.index(label_type)\n",
    "        labels.append(i)"
   ]
  },
  {
   "cell_type": "markdown",
   "metadata": {},
   "source": [
    "## Tokenize the text of the raw data\n",
    "Based on listing 6.9 (p. 189)"
   ]
  },
  {
   "cell_type": "code",
   "execution_count": 2,
   "metadata": {},
   "outputs": [
    {
     "name": "stderr",
     "output_type": "stream",
     "text": [
      "Using TensorFlow backend.\n"
     ]
    },
    {
     "name": "stdout",
     "output_type": "stream",
     "text": [
      "Found 30857 unique tokens\n"
     ]
    }
   ],
   "source": [
    "from keras.preprocessing.text import Tokenizer\n",
    "from keras.preprocessing.sequence import pad_sequences\n",
    "import numpy as np\n",
    "\n",
    "maxlen = 300\n",
    "max_words = 20000\n",
    "\n",
    "tokenizer = Tokenizer(num_words = max_words)\n",
    "tokenizer.fit_on_texts(texts)\n",
    "sequences = tokenizer.texts_to_sequences(texts)\n",
    "\n",
    "word_index = tokenizer.word_index\n",
    "print('Found %s unique tokens' % len(word_index))"
   ]
  },
  {
   "cell_type": "markdown",
   "metadata": {},
   "source": [
    "### Shape the data and labels"
   ]
  },
  {
   "cell_type": "code",
   "execution_count": 3,
   "metadata": {},
   "outputs": [
    {
     "name": "stdout",
     "output_type": "stream",
     "text": [
      "Shape of data tensor: (10433, 300)\n",
      "Shape of labels tensor: (10433, 23)\n"
     ]
    }
   ],
   "source": [
    "from keras.utils.np_utils import to_categorical\n",
    "\n",
    "data = pad_sequences(sequences, maxlen = maxlen)\n",
    "\n",
    "labels = np.asarray(labels)\n",
    "one_hot_labels = to_categorical(labels)\n",
    "\n",
    "\n",
    "print('Shape of data tensor:', data.shape)\n",
    "print('Shape of labels tensor:', one_hot_labels.shape)"
   ]
  },
  {
   "cell_type": "markdown",
   "metadata": {},
   "source": [
    "### Shuffle the data and labels"
   ]
  },
  {
   "cell_type": "code",
   "execution_count": 4,
   "metadata": {},
   "outputs": [],
   "source": [
    "indices = np.arange(data.shape[0])\n",
    "np.random.shuffle(indices)\n",
    "data = data[indices]\n",
    "labels = labels[indices]\n",
    "one_hot_labels = one_hot_labels[indices]"
   ]
  },
  {
   "cell_type": "markdown",
   "metadata": {},
   "source": [
    "## Build the model\n",
    "Listing 6.7 (p. 187)"
   ]
  },
  {
   "cell_type": "code",
   "execution_count": 5,
   "metadata": {},
   "outputs": [
    {
     "name": "stdout",
     "output_type": "stream",
     "text": [
      "_________________________________________________________________\n",
      "Layer (type)                 Output Shape              Param #   \n",
      "=================================================================\n",
      "embedding_1 (Embedding)      (None, 300, 8)            160000    \n",
      "_________________________________________________________________\n",
      "flatten_1 (Flatten)          (None, 2400)              0         \n",
      "_________________________________________________________________\n",
      "dense_1 (Dense)              (None, 1024)              2458624   \n",
      "_________________________________________________________________\n",
      "dense_2 (Dense)              (None, 256)               262400    \n",
      "_________________________________________________________________\n",
      "dense_3 (Dense)              (None, 23)                5911      \n",
      "=================================================================\n",
      "Total params: 2,886,935\n",
      "Trainable params: 2,886,935\n",
      "Non-trainable params: 0\n",
      "_________________________________________________________________\n"
     ]
    }
   ],
   "source": [
    "from keras.models import Sequential\n",
    "from keras.layers import Flatten, Dense, Embedding\n",
    "\n",
    "model = Sequential()\n",
    "model.add(Embedding(max_words, 8, input_length=maxlen))\n",
    "model.add(Flatten())\n",
    "model.add(Dense(1024, activation = 'relu'))\n",
    "model.add(Dense(256, activation = 'relu'))\n",
    "model.add(Dense(len(L), activation = 'softmax'))\n",
    "\n",
    "model.compile(optimizer = 'rmsprop',\n",
    "             loss = 'categorical_crossentropy',\n",
    "             metrics = ['accuracy'])\n",
    "\n",
    "model.summary()"
   ]
  },
  {
   "cell_type": "markdown",
   "metadata": {},
   "source": [
    "## Train the model"
   ]
  },
  {
   "cell_type": "code",
   "execution_count": 6,
   "metadata": {},
   "outputs": [
    {
     "name": "stdout",
     "output_type": "stream",
     "text": [
      "Train on 8346 samples, validate on 2087 samples\n",
      "Epoch 1/10\n",
      "8346/8346 [==============================] - 17s - loss: 2.7556 - acc: 0.1867 - val_loss: 2.5853 - val_acc: 0.2472\n",
      "Epoch 2/10\n",
      "8346/8346 [==============================] - 16s - loss: 2.3296 - acc: 0.2872 - val_loss: 2.6468 - val_acc: 0.2142\n",
      "Epoch 3/10\n",
      "8346/8346 [==============================] - 17s - loss: 1.8815 - acc: 0.3912 - val_loss: 2.9112 - val_acc: 0.1667\n",
      "Epoch 4/10\n",
      "8346/8346 [==============================] - 18s - loss: 1.5192 - acc: 0.4802 - val_loss: 3.2078 - val_acc: 0.1394\n",
      "Epoch 5/10\n",
      "8346/8346 [==============================] - 18s - loss: 1.2744 - acc: 0.5189 - val_loss: 3.5823 - val_acc: 0.1442\n",
      "Epoch 6/10\n",
      "8346/8346 [==============================] - 19s - loss: 1.1140 - acc: 0.5359 - val_loss: 3.7423 - val_acc: 0.1260\n",
      "Epoch 7/10\n",
      "8346/8346 [==============================] - 20s - loss: 0.9982 - acc: 0.5389 - val_loss: 4.1498 - val_acc: 0.1236\n",
      "Epoch 8/10\n",
      "8346/8346 [==============================] - 19s - loss: 0.8996 - acc: 0.5526 - val_loss: 4.6359 - val_acc: 0.1255\n",
      "Epoch 9/10\n",
      "8346/8346 [==============================] - 19s - loss: 0.8211 - acc: 0.5507 - val_loss: 5.0360 - val_acc: 0.1184\n",
      "Epoch 10/10\n",
      "8346/8346 [==============================] - 20s - loss: 0.7604 - acc: 0.5566 - val_loss: 5.5827 - val_acc: 0.1116\n",
      "Elapsed time: 188.38 seconds\n"
     ]
    }
   ],
   "source": [
    "import time\n",
    "\n",
    "t1 = time.time()\n",
    "history = model.fit(data, one_hot_labels,\n",
    "                   epochs = 10,\n",
    "                   batch_size = 32,\n",
    "                   validation_split = 0.2)\n",
    "t2 = time.time()\n",
    "print('Elapsed time: {:.2f} seconds'.format((t2-t1)))"
   ]
  },
  {
   "cell_type": "markdown",
   "metadata": {},
   "source": [
    "## Training results"
   ]
  },
  {
   "cell_type": "code",
   "execution_count": 7,
   "metadata": {},
   "outputs": [
    {
     "data": {
      "image/png": "[encoded data removed]",
      "text/plain": [
       "<matplotlib.figure.Figure at 0x1b2828d57f0>"
      ]
     },
     "metadata": {},
     "output_type": "display_data"
    },
    {
     "data": {
      "image/png": "[encoded data removed]",
      "text/plain": [
       "<matplotlib.figure.Figure at 0x1b2854622b0>"
      ]
     },
     "metadata": {},
     "output_type": "display_data"
    }
   ],
   "source": [
    "import matplotlib.pyplot as plt\n",
    "\n",
    "acc = history.history['acc']\n",
    "val_acc = history.history['val_acc']\n",
    "loss = history.history['loss']\n",
    "val_loss = history.history['val_loss']\n",
    "\n",
    "epochs = range(1, len(acc) + 1)\n",
    "\n",
    "plt.figure(figsize=(15, 3))\n",
    "plt.plot(epochs, acc, 'bo', label='Training acc')\n",
    "plt.plot(epochs, val_acc, 'b', label='Validation acc')\n",
    "plt.title('Training and validation accuracy')\n",
    "plt.grid()\n",
    "plt.xlabel('Epoch')\n",
    "plt.legend()\n",
    "\n",
    "\n",
    "plt.figure(figsize=(15, 3))\n",
    "plt.plot(epochs, loss, 'bo', label='Training loss')\n",
    "plt.plot(epochs, val_loss, 'b', label='Validation loss')\n",
    "plt.title('Training and validation loss')\n",
    "plt.grid()\n",
    "plt.xlabel('Epoch')\n",
    "plt.legend()\n",
    "\n",
    "plt.show()"
   ]
  },
  {
   "cell_type": "markdown",
   "metadata": {},
   "source": [
    "## Metrics results"
   ]
  },
  {
   "cell_type": "code",
   "execution_count": 8,
   "metadata": {},
   "outputs": [],
   "source": [
    "# Calculate the predictions\n",
    "predictions = model.predict(data)\n",
    "y_pred = np.argmax(predictions, axis = 1)"
   ]
  },
  {
   "cell_type": "code",
   "execution_count": 9,
   "metadata": {
    "collapsed": true
   },
   "outputs": [],
   "source": [
    "# http://scikit-learn.org/stable/modules/model_evaluation.html\n",
    "from sklearn.metrics import accuracy_score, precision_score, f1_score, confusion_matrix\n",
    "from sklearn.metrics import classification_report, recall_score"
   ]
  },
  {
   "cell_type": "code",
   "execution_count": 10,
   "metadata": {},
   "outputs": [
    {
     "name": "stdout",
     "output_type": "stream",
     "text": [
      "             precision    recall  f1-score   support\n",
      "\n",
      "          0       0.58      0.40      0.48       423\n",
      "          1       0.41      0.68      0.51       158\n",
      "          2       0.45      0.58      0.51        65\n",
      "          3       0.57      0.68      0.62      1163\n",
      "          4       0.49      0.70      0.58       283\n",
      "          5       0.53      0.56      0.54       588\n",
      "          6       0.51      0.69      0.58       100\n",
      "          7       0.59      0.36      0.45       473\n",
      "          8       0.56      0.58      0.57       125\n",
      "          9       0.49      0.73      0.59       621\n",
      "         10       0.63      0.51      0.56       162\n",
      "         11       0.54      0.54      0.54       491\n",
      "         12       0.52      0.61      0.56       281\n",
      "         13       0.62      0.70      0.66      1249\n",
      "         14       0.50      0.52      0.51       215\n",
      "         15       0.48      0.82      0.61       200\n",
      "         16       0.77      0.36      0.49       295\n",
      "         17       0.68      0.53      0.60       388\n",
      "         18       0.62      0.32      0.43       191\n",
      "         19       0.51      0.63      0.56       525\n",
      "         20       0.64      0.56      0.59       546\n",
      "         21       0.48      0.33      0.39        92\n",
      "         22       0.53      0.37      0.43      1799\n",
      "\n",
      "avg / total       0.56      0.55      0.55     10433\n",
      "\n"
     ]
    }
   ],
   "source": [
    "# Classification results per class\n",
    "print(classification_report(labels, y_pred))"
   ]
  },
  {
   "cell_type": "code",
   "execution_count": 11,
   "metadata": {
    "scrolled": false
   },
   "outputs": [
    {
     "name": "stdout",
     "output_type": "stream",
     "text": [
      "[[171  21   4   6  13  34   5   7   1  22   3  20  12  20   7   5   1   3   1  24  12   1  30]\n",
      " [  1 107   2   5   0   1   5   1   0   6   0   2   3   5   0   1   0   0   1  13   0   0   5]\n",
      " [  1   3  38   2   0   2   0   1   1   5   1   1   2   2   0   1   0   1   0   3   0   0   1]\n",
      " [  8   7   1 793  11  30  23  14  17  35   9  20  30  13  15   9   6   5   6  50  15   3  43]\n",
      " [  2   0   0   6 199   5   2   2   0  17   1   2   1   5   1   9   0   4   3   5   4   2  13]\n",
      " [ 11  10   3  63   5 332   1   6   0  21   0   9   4  19   4   6   2   4   1  13   7   3  64]\n",
      " [  0   1   0   8   3   0  69   1   1   2   0   0   1   4   1   1   1   0   0   1   1   0   5]\n",
      " [ 16  12   2  56   5   8   1 171   8  19   0   9   9  31   6   9   0   3   0  37  19   1  51]\n",
      " [  2   5   0  13   2   0   1   8  73   2   1   2   1   1   0   2   0   0   0   3   1   0   8]\n",
      " [  2   4   4  20  16   5   1   4   2 455   1   4   7  25   3   9   1   2   0   9  15   1  31]\n",
      " [  4   2   5  11   4   0   1   0   0  21  82   1   0   7   3   0   1   2   2   7   0   0   9]\n",
      " [  2   3   1  92   3   7   0   1   1  10   0 266  11  19  15   9   2   3   2  11   8   0  25]\n",
      " [  5   9   1  20   2   7   0   1   0   7   0  11 172  12   2  13   0   1   1   7   3   0   7]\n",
      " [  6   3   1  17   5  15   1   5   0  52   3  22   7 869  10  31   2  19   3   9  21   4 144]\n",
      " [  4   2   2   9   9   4   2   3   0   9   0   6  10   9 111   2   2   2   0  17   0   0  12]\n",
      " [  2   0   0   6   2   0   0   1   0   5   2   0   1   9   1 165   1   1   0   0   0   0   4]\n",
      " [  4   5   0  14  27   6   7   3   3  14   4   9   4  12   5   4 105   0   3  28   6   5  27]\n",
      " [  1   0   4  12  10  12   1   5   0   8   2  20   2  50   2   1   0 206  10   9   3   2  28]\n",
      " [  0   1   1  29   3   6   0   1   0  13   0  12   2  26   2   2   0  14  62   2   1   0  14]\n",
      " [  6  45   5  16   5   7   6   8   4  22   4   4  12  12   3   5   3   6   3 331   4   1  13]\n",
      " [ 10   0   1  17  31  25   1   5   1  36   6   4   3  18   4   1   1   4   0  20 305   2  51]\n",
      " [  3   2   1   0   1   5   0   5   0   2   0   5   0  15   3   0   2   1   1   4   5  30   7]\n",
      " [ 32  17   8 171  48 120   9  36  18 143  12  62  34 216  22  57   7  20   1  50  50   7 659]]\n"
     ]
    }
   ],
   "source": [
    "# Confusion matrix\n",
    "cm = confusion_matrix(labels, y_pred)\n",
    "print(np.array2string(cm, max_line_width = 100))"
   ]
  },
  {
   "cell_type": "code",
   "execution_count": 33,
   "metadata": {},
   "outputs": [
    {
     "name": "stdout",
     "output_type": "stream",
     "text": [
      "Role of prostaglandin E1 in reducing pulmonary vascular resistance in an experimental model of acute lung injury.\n",
      " To determine the role and efficacy of prostaglandin E1 (PGE1) on the cardiopulmonary derangements induced by glass bead embolism, two studies were performed.\n",
      " In the first study, a dose response of PGE1 was tested in six animals that were first embolized with sufficient glass beads to double the pulmonary artery pressure (PAP).\n",
      " This study demonstrated that PGE1 reduced PAP and cardiac output by a preload-mediated mechanism, as evidenced by a reduction in the right ventricular (RV) end-diastolic segment length, at doses of 15 and 30 ng/kg.min.\n",
      " The second study was performed in two groups of animals, the control group (n = 6), and the treated group (n = 6), which were given PGE1 at 15 ng/kg.min after the PAP had been doubled by glass bead embolism.\n",
      " RV preload was kept constant.\n",
      " This study demonstrated that there was no difference in pulmonary vascular resistance between either the treated group or the control group.\n",
      " There were no other significant differences between the two groups.\n",
      " The results of both of these studies suggest that there is little afterload reducing effect of PGE1 in this model and at these dose ranges.\n",
      " Part of the mechanism of PGE1 that improves pulmonary edema and gas exchange may be the reduction of filtration surface area and hydrostatic pressures in the lungs.\n",
      "\n"
     ]
    }
   ],
   "source": [
    "print(texts[indices[512]])"
   ]
  },
  {
   "cell_type": "code",
   "execution_count": 40,
   "metadata": {},
   "outputs": [
    {
     "name": "stdout",
     "output_type": "stream",
     "text": [
      "True class:  7\n",
      "Predicted class: 13\n",
      "Predictions per class:\n",
      "[  1.00e-04   3.77e-05   8.23e-05   1.54e-03   9.88e-04   4.32e-04\n",
      "   3.38e-05   3.11e-01   2.44e-05   1.82e-03   8.77e-06   1.81e-04\n",
      "   7.99e-03   3.85e-01   9.42e-04   2.72e-02   1.13e-04   1.96e-03\n",
      "   1.16e-02   7.76e-04   1.20e-04   2.33e-01   1.50e-02]\n"
     ]
    },
    {
     "data": {
      "image/png": "[encoded data removed]",
      "text/plain": [
       "<matplotlib.figure.Figure at 0x1b2876c49e8>"
      ]
     },
     "metadata": {},
     "output_type": "display_data"
    }
   ],
   "source": [
    "print('True class: ', labels[512])\n",
    "print('Predicted class:', y_pred[512])\n",
    "print('Predictions per class:')\n",
    "print(np.array2string(predictions[512], precision = 2))\n",
    "\n",
    "plt.stem(predictions[512])\n",
    "plt.show()"
   ]
  },
  {
   "cell_type": "code",
   "execution_count": 39,
   "metadata": {},
   "outputs": [
    {
     "data": {
      "text/plain": [
       "'1.13.3'"
      ]
     },
     "execution_count": 39,
     "metadata": {},
     "output_type": "execute_result"
    }
   ],
   "source": [
    "np.__version__"
   ]
  }
 ],
 "metadata": {
  "kernelspec": {
   "display_name": "Python 3",
   "language": "python",
   "name": "python3"
  },
  "language_info": {
   "codemirror_mode": {
    "name": "ipython",
    "version": 3
   },
   "file_extension": ".py",
   "mimetype": "text/x-python",
   "name": "python",
   "nbconvert_exporter": "python",
   "pygments_lexer": "ipython3",
   "version": "3.6.3"
  }
 },
 "nbformat": 4,
 "nbformat_minor": 2
}
