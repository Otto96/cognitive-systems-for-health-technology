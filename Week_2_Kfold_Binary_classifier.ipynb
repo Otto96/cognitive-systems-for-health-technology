{
  "nbformat": 4,
  "nbformat_minor": 0,
  "metadata": {
    "colab": {
      "name": "Week 2. Kfold Binary classifier.ipynb",
      "version": "0.3.2",
      "provenance": []
    },
    "kernelspec": {
      "name": "python3",
      "display_name": "Python 3"
    }
  },
  "cells": [
    {
      "metadata": {
        "id": "5d5Xrx60HTAS",
        "colab_type": "text"
      },
      "cell_type": "markdown",
      "source": [
        "# Week 3. Kfold Binary classifier (drafty notes)\n",
        "Cognitive Systems for Health Technology Applications<br>\n",
        "1.2.2019, Sakari Lukkarinen<br>\n",
        "Helsinki Metropolia University of Applied Sciences\n",
        "\n",
        "Inspired by: https://machinelearningmastery.com/binary-classification-tutorial-with-the-keras-deep-learning-library/\n",
        "\n",
        "This example code shows how to use K-folding calculation from the scikit-learn library to solve the Case 1. See the Inspired by link above for more details."
      ]
    },
    {
      "metadata": {
        "id": "t4ZYmiti1p8-",
        "colab_type": "code",
        "outputId": "abc5b566-d86b-4e47-b73b-a2a75bae4bd8",
        "colab": {
          "base_uri": "https://localhost:8080/",
          "height": 111
        }
      },
      "cell_type": "code",
      "source": [
        "# Import libraries\n",
        "%pylab inline\n",
        "\n",
        "import time\n",
        "\n",
        "import pandas as pd\n",
        "\n",
        "from sklearn.preprocessing import normalize\n",
        "from sklearn.metrics import confusion_matrix\n",
        "from sklearn.utils import shuffle\n",
        "from sklearn.model_selection import cross_val_score\n",
        "from sklearn.preprocessing import LabelEncoder\n",
        "from sklearn.model_selection import StratifiedKFold\n",
        "from sklearn.preprocessing import StandardScaler\n",
        "from sklearn.pipeline import Pipeline\n",
        "\n",
        "from keras import models, layers\n",
        "from keras.wrappers.scikit_learn import KerasClassifier"
      ],
      "execution_count": 3,
      "outputs": [
        {
          "output_type": "stream",
          "text": [
            "Populating the interactive namespace from numpy and matplotlib\n"
          ],
          "name": "stdout"
        },
        {
          "output_type": "stream",
          "text": [
            "/usr/local/lib/python3.6/dist-packages/IPython/core/magics/pylab.py:161: UserWarning: pylab import has clobbered these variables: ['shuffle']\n",
            "`%matplotlib` prevents importing * from pylab and numpy\n",
            "  \"\\n`%matplotlib` prevents importing * from pylab and numpy\"\n"
          ],
          "name": "stderr"
        }
      ]
    },
    {
      "metadata": {
        "id": "ekUa75RI1toN",
        "colab_type": "code",
        "colab": {
          "base_uri": "https://localhost:8080/",
          "height": 36
        },
        "outputId": "75c5910a-dfd7-4734-bc53-3723f7995451"
      },
      "cell_type": "code",
      "source": [
        "# Import data\n",
        "url = r'http://archive.ics.uci.edu/ml/machine-learning-databases/heart-disease/processed.cleveland.data'\n",
        "dataframe = pd.read_csv(url, \n",
        "                        sep = ',', \n",
        "                        header = None, \n",
        "                        index_col = None,\n",
        "                        na_values = '?')\n",
        "\n",
        "# Data column names\n",
        "name_list = ['age', 'sex', 'cp','trestbps', 'chol', 'fbs','restecg',\n",
        "             'thalac','exang','oldpeak','slope','ca','thal','num']\n",
        "dataframe.columns = name_list\n",
        "\n",
        "# Filling missing data with columnwise median values\n",
        "dataframe = dataframe.fillna(dataframe.median())\n",
        "\n",
        "# fix random seed for reproducibility\n",
        "seed = 7\n",
        "numpy.random.seed(seed)\n",
        "\n",
        "# Randomize rows\n",
        "dataframe = shuffle(dataframe)\n",
        "\n",
        "# Select the data (input) columns\n",
        "data_list = ['age', 'sex', 'cp','trestbps', 'chol', 'fbs','restecg',\n",
        "             'thalac','exang','oldpeak','slope','ca','thal']\n",
        "data = dataframe[data_list]\n",
        "\n",
        "# Normalize data\n",
        "data_min = data.min()\n",
        "data_max = data.max()\n",
        "data_norm = (data - data_min)/(data_max - data_min)\n",
        "\n",
        "# Select labels (output)\n",
        "labels = dataframe['num']\n",
        "\n",
        "# Convert the labels as binary\n",
        "labels = 1.0*(labels > 0.0)\n",
        "\n",
        "# Check the shapes of the normalized data and categorical output\n",
        "print(data_norm.shape, labels.shape)\n",
        "\n",
        "# Plot the histogram (if True)\n",
        "if False:\n",
        "  # histogram of the labels (severity of the disease)\n",
        "  plt.hist(labels, bins = [-0.5, 0.5, 1.5, 2.5, 3.5, 4.5])\n",
        "  plt.xlabel('Severity of the disease')\n",
        "  plt.ylabel('Frequency')\n",
        "  plt.title('Histogram of labels')\n",
        "  show()\n"
      ],
      "execution_count": 4,
      "outputs": [
        {
          "output_type": "stream",
          "text": [
            "(303, 13) (303,)\n"
          ],
          "name": "stdout"
        }
      ]
    },
    {
      "metadata": {
        "id": "VtbBASN53NBo",
        "colab_type": "code",
        "colab": {}
      },
      "cell_type": "code",
      "source": [
        "# Define the model\n",
        "def baseline():\n",
        "  model = models.Sequential()\n",
        "  model.add(layers.Dense(9, activation='relu', input_shape=(13,)))\n",
        "  model.add(layers.Dense(5, activation='relu'))\n",
        "  model.add(layers.Dense(1, activation='sigmoid'))\n",
        "  \n",
        "  \n",
        "  model.compile(optimizer = 'adam',\n",
        "                loss = 'binary_crossentropy',\n",
        "                metrics = ['accuracy'])\n",
        "\n",
        "  return model"
      ],
      "execution_count": 0,
      "outputs": []
    },
    {
      "metadata": {
        "id": "VXeHjXwP3UTI",
        "colab_type": "code",
        "outputId": "53bab7da-2e77-4b4c-c345-925e76a53c96",
        "colab": {
          "base_uri": "https://localhost:8080/",
          "height": 73
        }
      },
      "cell_type": "code",
      "source": [
        "# Evaluate the model\n",
        "t_start = time.time()\n",
        "estimator = KerasClassifier(build_fn=baseline, epochs=100, batch_size=16, verbose=0)\n",
        "kfold = StratifiedKFold(n_splits=10, shuffle=True, random_state=seed)\n",
        "results = cross_val_score(estimator, data, labels, cv=kfold)\n",
        "t_end = time.time()\n",
        "\n",
        "print('Elapsed time: {:.2f} seconds'.format(t_end - t_start))\n",
        "\n",
        "np.set_printoptions(formatter={'float': '{: 0.2f}'.format})\n",
        "\n",
        "print('Results: ',results*100, \"%\")\n",
        "print(\"Average (std): %.2f%% (%.2f%%)\" % (results.mean()*100, results.std()*100))"
      ],
      "execution_count": 6,
      "outputs": [
        {
          "output_type": "stream",
          "text": [
            "Elapsed time: 27.60 seconds\n",
            "Results:  [ 45.16  45.16  54.84  77.42  53.33  86.67  63.33  66.67  93.33  72.41] %\n",
            "Average (std): 65.83% (15.83%)\n"
          ],
          "name": "stdout"
        }
      ]
    },
    {
      "metadata": {
        "id": "rz3c0GeJ3aKt",
        "colab_type": "code",
        "outputId": "2eba562a-cd70-4801-803b-56ea4b275b7a",
        "colab": {
          "base_uri": "https://localhost:8080/",
          "height": 54
        }
      },
      "cell_type": "code",
      "source": [
        "# Print the results (second time)\n",
        "\n",
        "print('Results', results*100, \"%\")\n",
        "print(\"Results: %.2f%% (%.2f%%)\" % (results.mean()*100, results.std()*100))"
      ],
      "execution_count": 7,
      "outputs": [
        {
          "output_type": "stream",
          "text": [
            "Results [ 45.16  45.16  54.84  77.42  53.33  86.67  63.33  66.67  93.33  72.41] %\n",
            "Results: 65.83% (15.83%)\n"
          ],
          "name": "stdout"
        }
      ]
    },
    {
      "metadata": {
        "id": "ngrvLagkF6go",
        "colab_type": "code",
        "outputId": "8d1bbe88-7e88-47d7-e70d-3e4ebaacc1b0",
        "colab": {
          "base_uri": "https://localhost:8080/",
          "height": 36
        }
      },
      "cell_type": "code",
      "source": [
        "# Try another cross validator\n",
        "from sklearn.model_selection import cross_validate\n",
        "\n",
        "cv_results = cross_validate(estimator, data, labels, cv=10,\n",
        "                           return_train_score=True)\n",
        "sorted(cv_results.keys())                         \n",
        "\n",
        "print('Test score:', cv_results['test_score'])"
      ],
      "execution_count": 8,
      "outputs": [
        {
          "output_type": "stream",
          "text": [
            "Test score: [ 0.52  0.77  0.58  0.30  0.50  0.80  0.83  0.53  0.57  0.77]\n"
          ],
          "name": "stdout"
        }
      ]
    },
    {
      "metadata": {
        "id": "Pqg7rte5GOzE",
        "colab_type": "code",
        "outputId": "be09e67e-3b94-4606-fe8d-7391df4a3ac7",
        "colab": {
          "base_uri": "https://localhost:8080/",
          "height": 166
        }
      },
      "cell_type": "code",
      "source": [
        "cv_results"
      ],
      "execution_count": 9,
      "outputs": [
        {
          "output_type": "execute_result",
          "data": {
            "text/plain": [
              "{'fit_time': array([ 3.12,  3.00,  3.05,  3.25,  3.56,  3.45,  3.50,  3.58,  3.63,\n",
              "         3.99]),\n",
              " 'score_time': array([ 0.28,  0.32,  0.33,  0.37,  0.40,  0.42,  0.45,  0.46,  0.49,\n",
              "         0.52]),\n",
              " 'test_score': array([ 0.52,  0.77,  0.58,  0.30,  0.50,  0.80,  0.83,  0.53,  0.57,\n",
              "         0.77]),\n",
              " 'train_score': array([ 0.54,  0.81,  0.65,  0.48,  0.55,  0.81,  0.79,  0.54,  0.54,\n",
              "         0.81])}"
            ]
          },
          "metadata": {
            "tags": []
          },
          "execution_count": 9
        }
      ]
    },
    {
      "metadata": {
        "id": "LoRcZs__G0C7",
        "colab_type": "text"
      },
      "cell_type": "markdown",
      "source": [
        "More details, see: https://scikit-learn.org/stable/modules/generated/sklearn.model_selection.cross_validate.html#sklearn.model_selection.cross_validate "
      ]
    }
  ]
}