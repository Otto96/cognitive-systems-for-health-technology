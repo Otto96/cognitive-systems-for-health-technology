{
 "cells": [
  {
   "cell_type": "markdown",
   "metadata": {},
   "source": [
    "# Week 6. Downloading and extracting the dataset\n",
    "Cognitive Systems for Health Technology Applications<br>\n",
    "Sakari Lukkarinen & Juha Kopu, 20.2.2018<br>\n",
    "[Helsinki Metropolia University of Applied Sciences](http://www.metropolia.fi/en)"
   ]
  },
  {
   "cell_type": "code",
   "execution_count": 3,
   "metadata": {},
   "outputs": [
    {
     "data": {
      "text/plain": [
       "('ohsumed.tar.gz', <http.client.HTTPMessage at 0x2e40b5749e8>)"
      ]
     },
     "execution_count": 3,
     "metadata": {},
     "output_type": "execute_result"
    }
   ],
   "source": [
    "# Download a local copy of the tar-file\n",
    "from urllib.request import urlretrieve\n",
    "url = r\"http://trec.nist.gov/data/filtering/t9.filtering.tar.gz\"\n",
    "dst = 'ohsumed.tar.gz'\n",
    "urlretrieve(url, dst)"
   ]
  },
  {
   "cell_type": "code",
   "execution_count": 2,
   "metadata": {
    "collapsed": true
   },
   "outputs": [],
   "source": [
    "# Extract the tarfile. Creates a folder: ohsu-trec\n",
    "import tarfile\n",
    "tar = tarfile.open(\"ohsumed.tar.gz\")\n",
    "tar.extractall()\n",
    "tar.close()"
   ]
  },
  {
   "cell_type": "code",
   "execution_count": null,
   "metadata": {
    "collapsed": true
   },
   "outputs": [],
   "source": []
  }
 ],
 "metadata": {
  "kernelspec": {
   "display_name": "Python 3",
   "language": "python",
   "name": "python3"
  },
  "language_info": {
   "codemirror_mode": {
    "name": "ipython",
    "version": 3
   },
   "file_extension": ".py",
   "mimetype": "text/x-python",
   "name": "python",
   "nbconvert_exporter": "python",
   "pygments_lexer": "ipython3",
   "version": "3.6.3"
  }
 },
 "nbformat": 4,
 "nbformat_minor": 2
}
