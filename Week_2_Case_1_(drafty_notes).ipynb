{
  "nbformat": 4,
  "nbformat_minor": 0,
  "metadata": {
    "colab": {
      "name": "Week 2. Case 1 (drafty notes).ipynb",
      "version": "0.3.2",
      "provenance": [],
      "collapsed_sections": []
    },
    "kernelspec": {
      "name": "python3",
      "display_name": "Python 3"
    }
  },
  "cells": [
    {
      "metadata": {
        "id": "5d5Xrx60HTAS",
        "colab_type": "text"
      },
      "cell_type": "markdown",
      "source": [
        "# Week 2. Case 1 (drafty notes)\n",
        "Cognitive Systems for Health Technology Applications<br>\n",
        "24.1.2019, Sakari Lukkarinen<br>\n",
        "Helsinki Metropolia University of Applied Sciences"
      ]
    },
    {
      "metadata": {
        "id": "K_aGNZ-HAc5E",
        "colab_type": "text"
      },
      "cell_type": "markdown",
      "source": [
        "## Quick Guide\n",
        "Here are all commands in one code cell for quick reference. Contains:\n",
        "\n",
        "- Import libraries\n",
        "- Import data\n",
        "- Preprocess data and labels\n",
        "- Building, compiling and training the model\n",
        "- Visualizing the training results\n",
        "- Calculating confusion matrix and best guess"
      ]
    },
    {
      "metadata": {
        "id": "t4ZYmiti1p8-",
        "colab_type": "code",
        "outputId": "c9176f83-1ba4-487a-a951-8a949ba8b7ea",
        "colab": {
          "base_uri": "https://localhost:8080/",
          "height": 1350
        }
      },
      "cell_type": "code",
      "source": [
        "# Import libraries\n",
        "%pylab inline\n",
        "import time\n",
        "import warnings\n",
        "import pandas as pd\n",
        "\n",
        "from sklearn.utils import shuffle\n",
        "from sklearn.preprocessing import normalize\n",
        "from sklearn.metrics import confusion_matrix, precision_recall_fscore_support\n",
        "\n",
        "from keras.utils import to_categorical\n",
        "from keras import models, layers\n",
        "\n",
        "# Import data\n",
        "url = r'http://archive.ics.uci.edu/ml/machine-learning-databases/heart-disease/processed.cleveland.data'\n",
        "dataframe = pd.read_csv(url, \n",
        "                        sep = ',', \n",
        "                        header = None, \n",
        "                        index_col = None,\n",
        "                        na_values = '?')\n",
        "\n",
        "# Add column names\n",
        "name_list = ['age', 'sex', 'cp','trestbps', 'chol', 'fbs','restecg',\n",
        "             'thalac','exang','oldpeak','slope','ca','thal','num']\n",
        "dataframe.columns = name_list\n",
        "\n",
        "# Fill missing data with columnwise median values\n",
        "dataframe = dataframe.fillna(dataframe.median())\n",
        "\n",
        "# Randomize rows\n",
        "dataframe = shuffle(dataframe)\n",
        "dataframe.tail()\n",
        "\n",
        "# Check the descriptive statistics\n",
        "dataframe.describe()\n",
        "\n",
        "# Select the data (input) columns\n",
        "data_list = ['age', 'sex', 'cp','trestbps', 'chol', 'fbs','restecg',\n",
        "             'thalac','exang','oldpeak','slope','ca','thal']\n",
        "data = dataframe[data_list]\n",
        "\n",
        "# Scale the data\n",
        "data_min = data.min()\n",
        "data_max = data.max()\n",
        "data_norm = (data - data_min)/(data_max - data_min)\n",
        "\n",
        "# Check descriptive statistics of normalized data\n",
        "data_norm.describe()\n",
        "\n",
        "# Select labels (output)\n",
        "labels = dataframe['num']\n",
        "\n",
        "# Plot the histogram of the labels (severity of the disease)\n",
        "plt.hist(labels, bins = [-0.5, 0.5, 1.5, 2.5, 3.5, 4.5])\n",
        "plt.xlabel('Severity of the disease')\n",
        "plt.ylabel('Frequency')\n",
        "plt.title('Histogram of labels')\n",
        "show()\n",
        "\n",
        "# Code labels to categorical output\n",
        "one_hot_labels = to_categorical(labels)\n",
        "one_hot_labels[:5]\n",
        "\n",
        "# Check the shapes of the normalized data and categorical output\n",
        "print('Shape of data and one-hot-labels:', data_norm.shape, one_hot_labels.shape)\n",
        "\n",
        "# Split the data and labels into training and validation sets\n",
        "train_data = data_norm[:200]\n",
        "val_data = data_norm[200:]\n",
        "\n",
        "train_labels = one_hot_labels[:200]\n",
        "val_labels = one_hot_labels[200:]\n",
        "\n",
        "# Build the model\n",
        "model = models.Sequential()\n",
        "model.add(layers.Dense(9, activation='relu', input_shape=(13,)))\n",
        "model.add(layers.Dense(5, activation='softmax'))\n",
        "model.summary()\n",
        "\n",
        "# Compile the model\n",
        "model.compile(optimizer = 'adam',\n",
        "                loss = 'categorical_crossentropy',\n",
        "                metrics = ['accuracy'])\n",
        "\n",
        "# Fit the model with the data and keep record on elapsed time\n",
        "t_start = time.time()\n",
        "history = model.fit(train_data, train_labels, \n",
        "                    epochs = 100, \n",
        "                    batch_size = 16, \n",
        "                    verbose = 0,\n",
        "                    validation_data = (val_data, val_labels))\n",
        "t_end = time.time()\n",
        "print('Elapsed time: {:.2f} seconds'.format(t_end - t_start))\n",
        "\n",
        "# Get the training data\n",
        "history_dict = history.history\n",
        "loss_values = history_dict['loss']\n",
        "val_loss_values = history_dict['val_loss']\n",
        "acc_values = history_dict['acc']\n",
        "val_acc_values = history_dict['val_acc']\n",
        "epochs = range(1, len(loss_values) + 1)\n",
        "\n",
        "# Visualize the training process: loss function\n",
        "plt.figure()\n",
        "plt.plot(epochs, loss_values, 'b', label='Training loss')\n",
        "plt.plot(epochs, val_loss_values, 'r', label='Validation loss')\n",
        "plt.xlabel('Epochs')\n",
        "plt.ylabel('Loss')\n",
        "plt.ylim([0, 2])\n",
        "plt.legend()\n",
        "plt.show()\n",
        "\n",
        "# Visualize the accuracy\n",
        "plt.figure()\n",
        "plt.plot(epochs, acc_values, 'b', label='Training acc')\n",
        "plt.plot(epochs, val_acc_values, 'r', label='Validation acc')\n",
        "plt.xlabel('Epochs')\n",
        "plt.ylabel('Accuracy')\n",
        "plt.ylim([0, 1])\n",
        "plt.legend()\n",
        "plt.show()\n",
        "\n",
        "# Print total accuracy and confusion matrix\n",
        "val_predicts = model.predict(data_norm)\n",
        "y_pred = argmax(val_predicts, axis = 1)\n",
        "cm = confusion_matrix(labels, y_pred)\n",
        "\n",
        "# Best guess = Guess that all are normal\n",
        "# ==> Normal cases are correctly classified\n",
        "# Normal cases can be counted by summing all labels that are zeros\n",
        "print('Best guess: {:.4f}'.format(np.sum(labels == 0)/len(labels)))\n",
        "\n",
        "# Accuracy can be calculated from the confusion matrix by\n",
        "# counting all elements in diagonal (=trace of the matrix)\n",
        "print('Total accuracy: {:.4f}'.format(np.trace(cm)/sum(cm)))\n",
        "print('Confusion matrix:')\n",
        "print(cm)\n",
        "\n",
        "\n",
        "\n",
        "# Calculate precision, recall, fscore and support\n",
        "with warnings.catch_warnings():\n",
        "    warnings.simplefilter(\"ignore\")\n",
        "    p, r, f, s = precision_recall_fscore_support(labels, y_pred)\n",
        "\n",
        "# Print precision, recall, fscore and support  \n",
        "np.set_printoptions(formatter={'float': '{: 0.3f}'.format})\n",
        "print('Support:\\n', s)\n",
        "print('Precision:', p)\n",
        "print('Recall:   ', r)\n",
        "print('F-score:  ', f)\n",
        "\n",
        "# We should do something in order to get the accuracy better, but what?"
      ],
      "execution_count": 1,
      "outputs": [
        {
          "output_type": "stream",
          "text": [
            "Populating the interactive namespace from numpy and matplotlib\n"
          ],
          "name": "stdout"
        },
        {
          "output_type": "stream",
          "text": [
            "Using TensorFlow backend.\n"
          ],
          "name": "stderr"
        },
        {
          "output_type": "display_data",
          "data": {
            "image/png": "[encoded data removed]",
            "text/plain": [
              "<Figure size 432x288 with 1 Axes>"
            ]
          },
          "metadata": {
            "tags": []
          }
        },
        {
          "output_type": "stream",
          "text": [
            "Shape of data and one-hot-labels: (303, 13) (303, 5)\n",
            "_________________________________________________________________\n",
            "Layer (type)                 Output Shape              Param #   \n",
            "=================================================================\n",
            "dense_1 (Dense)              (None, 9)                 126       \n",
            "_________________________________________________________________\n",
            "dense_2 (Dense)              (None, 5)                 50        \n",
            "=================================================================\n",
            "Total params: 176\n",
            "Trainable params: 176\n",
            "Non-trainable params: 0\n",
            "_________________________________________________________________\n",
            "Elapsed time: 1.77 seconds\n"
          ],
          "name": "stdout"
        },
        {
          "output_type": "display_data",
          "data": {
            "image/png": "[encoded data removed]",
            "text/plain": [
              "<Figure size 432x288 with 1 Axes>"
            ]
          },
          "metadata": {
            "tags": []
          }
        },
        {
          "output_type": "display_data",
          "data": {
            "image/png": "[encoded data removed]",
            "text/plain": [
              "<Figure size 432x288 with 1 Axes>"
            ]
          },
          "metadata": {
            "tags": []
          }
        },
        {
          "output_type": "stream",
          "text": [
            "Best guess: 0.5413\n",
            "Total accuracy: 0.6337\n",
            "Confusion matrix:\n",
            "[[154   7   0   3   0]\n",
            " [ 27  16   1  11   0]\n",
            " [  8   8   1  19   0]\n",
            " [  4  10   0  21   0]\n",
            " [  0   6   0   7   0]]\n",
            "Support:\n",
            " [164  55  36  35  13]\n",
            "Precision: [ 0.798  0.340  0.500  0.344  0.000]\n",
            "Recall:    [ 0.939  0.291  0.028  0.600  0.000]\n",
            "F-score:   [ 0.863  0.314  0.053  0.437  0.000]\n"
          ],
          "name": "stdout"
        }
      ]
    },
    {
      "metadata": {
        "id": "2It7BlSRKvfH",
        "colab_type": "text"
      },
      "cell_type": "markdown",
      "source": [
        "## Detailed explanations"
      ]
    },
    {
      "metadata": {
        "id": "ya-ZFU6_K1NH",
        "colab_type": "text"
      },
      "cell_type": "markdown",
      "source": [
        "### Import libraries\n",
        "First we import all libraries (or modules) and functions needed in this session.\n",
        "\n",
        "-  [`%pylab inline`](https://ipython.readthedocs.io/en/stable/interactive/magics.html#line-magics)  loads numpy and matplotlib modules\n",
        "- [`import time`](https://duckduckgo.com/?q=python+time.time&t=ffab&atb=v150-2__&ia=about) we use for clocking the training evaluation time\n",
        "- [`import warnings`](https://docs.python.org/2/library/warnings.html#temporarily-suppressing-warnings) is used for suppress warnings at the very end of the code\n",
        "- `import pandas as pd` imports the pandas library and we can use the short notation `np`\n",
        "-  `from sklearn ...` we import some special functions from scikit-learn module\n",
        "- `from keras ...` is used for special keras functions"
      ]
    },
    {
      "metadata": {
        "id": "CKDm46u2Gvqg",
        "colab_type": "code",
        "colab": {
          "base_uri": "https://localhost:8080/",
          "height": 112
        },
        "outputId": "d2095f46-87cb-41d4-fb39-7f6a6fe40fb1"
      },
      "cell_type": "code",
      "source": [
        "# Import libraries\n",
        "%pylab inline\n",
        "import time\n",
        "import warnings\n",
        "import pandas as pd\n",
        "\n",
        "from sklearn.utils import shuffle\n",
        "from sklearn.preprocessing import normalize\n",
        "from sklearn.metrics import confusion_matrix, precision_recall_fscore_support\n",
        "\n",
        "from keras.utils import to_categorical\n",
        "from keras import models, layers"
      ],
      "execution_count": 2,
      "outputs": [
        {
          "output_type": "stream",
          "text": [
            "Populating the interactive namespace from numpy and matplotlib\n"
          ],
          "name": "stdout"
        },
        {
          "output_type": "stream",
          "text": [
            "/usr/local/lib/python3.6/dist-packages/IPython/core/magics/pylab.py:161: UserWarning: pylab import has clobbered these variables: ['shuffle', 'cm', 'f']\n",
            "`%matplotlib` prevents importing * from pylab and numpy\n",
            "  \"\\n`%matplotlib` prevents importing * from pylab and numpy\"\n"
          ],
          "name": "stderr"
        }
      ]
    },
    {
      "metadata": {
        "id": "TnCo-003NBf4",
        "colab_type": "text"
      },
      "cell_type": "markdown",
      "source": [
        "### Import and preprocess data\n",
        "Next we import the data using pandas [read_csv](https://pandas.pydata.org/pandas-docs/stable/generated/pandas.read_csv.html) function. \n",
        "- The file can be local or an url address to a file found from the Internet\n",
        "- `sep = ','` tells that the comma is the column separator in the file\n",
        "- `header = None` says that there are no headers (column titles) in the file\n",
        "- `index_col = None` tells that we are not using any index columns, but pandas needs to generate the index itself\n",
        "- `na_values` means that the missing values are marked with '?' - mark in the file"
      ]
    },
    {
      "metadata": {
        "id": "V4-dv_TIJBR6",
        "colab_type": "code",
        "colab": {}
      },
      "cell_type": "code",
      "source": [
        "# Import data\n",
        "url = r'http://archive.ics.uci.edu/ml/machine-learning-databases/heart-disease/processed.cleveland.data'\n",
        "dataframe = pd.read_csv(url, \n",
        "                        sep = ',', \n",
        "                        header = None, \n",
        "                        index_col = None,\n",
        "                        na_values = '?')\n"
      ],
      "execution_count": 0,
      "outputs": []
    },
    {
      "metadata": {
        "id": "VzR8EGIfOAdY",
        "colab_type": "text"
      },
      "cell_type": "markdown",
      "source": [
        "As the original file doesn't contain the column names we give the ourselves. The missing values are replaced with column-wise median-values. Another typical replacements are 0, mean-value, or random-value. Lastly we [shuffle](https://duckduckgo.com/?q=python+suffle&t=ffab&atb=v150-2__&ia=qa), e.g. change randomly the order of the rows.\n",
        "\n",
        "The `dataframe.tail()` shows the first 5 rows of the data and [`dataframe.describe()`](https://duckduckgo.com/?q=pandas+describe&t=ffab&atb=v150-2__&ia=web) (see below) calculates the descriptive statistics."
      ]
    },
    {
      "metadata": {
        "id": "pG016Is8JFYs",
        "colab_type": "code",
        "colab": {
          "base_uri": "https://localhost:8080/",
          "height": 206
        },
        "outputId": "d450c4f8-cd4f-46ea-9880-952bb7dc1339"
      },
      "cell_type": "code",
      "source": [
        "# Add column names\n",
        "name_list = ['age', 'sex', 'cp','trestbps', 'chol', 'fbs','restecg',\n",
        "             'thalac','exang','oldpeak','slope','ca','thal','num']\n",
        "dataframe.columns = name_list\n",
        "\n",
        "# Fill missing data with columnwise median values\n",
        "dataframe = dataframe.fillna(dataframe.median())\n",
        "\n",
        "# Randomize rows\n",
        "dataframe = shuffle(dataframe)\n",
        "dataframe.tail()"
      ],
      "execution_count": 4,
      "outputs": [
        {
          "output_type": "execute_result",
          "data": {
            "text/html": [
              "<div>\n",
              "<style scoped>\n",
              "    .dataframe tbody tr th:only-of-type {\n",
              "        vertical-align: middle;\n",
              "    }\n",
              "\n",
              "    .dataframe tbody tr th {\n",
              "        vertical-align: top;\n",
              "    }\n",
              "\n",
              "    .dataframe thead th {\n",
              "        text-align: right;\n",
              "    }\n",
              "</style>\n",
              "<table border=\"1\" class=\"dataframe\">\n",
              "  <thead>\n",
              "    <tr style=\"text-align: right;\">\n",
              "      <th></th>\n",
              "      <th>age</th>\n",
              "      <th>sex</th>\n",
              "      <th>cp</th>\n",
              "      <th>trestbps</th>\n",
              "      <th>chol</th>\n",
              "      <th>fbs</th>\n",
              "      <th>restecg</th>\n",
              "      <th>thalac</th>\n",
              "      <th>exang</th>\n",
              "      <th>oldpeak</th>\n",
              "      <th>slope</th>\n",
              "      <th>ca</th>\n",
              "      <th>thal</th>\n",
              "      <th>num</th>\n",
              "    </tr>\n",
              "  </thead>\n",
              "  <tbody>\n",
              "    <tr>\n",
              "      <th>49</th>\n",
              "      <td>53.0</td>\n",
              "      <td>1.0</td>\n",
              "      <td>3.0</td>\n",
              "      <td>130.0</td>\n",
              "      <td>197.0</td>\n",
              "      <td>1.0</td>\n",
              "      <td>2.0</td>\n",
              "      <td>152.0</td>\n",
              "      <td>0.0</td>\n",
              "      <td>1.2</td>\n",
              "      <td>3.0</td>\n",
              "      <td>0.0</td>\n",
              "      <td>3.0</td>\n",
              "      <td>0</td>\n",
              "    </tr>\n",
              "    <tr>\n",
              "      <th>214</th>\n",
              "      <td>52.0</td>\n",
              "      <td>1.0</td>\n",
              "      <td>4.0</td>\n",
              "      <td>112.0</td>\n",
              "      <td>230.0</td>\n",
              "      <td>0.0</td>\n",
              "      <td>0.0</td>\n",
              "      <td>160.0</td>\n",
              "      <td>0.0</td>\n",
              "      <td>0.0</td>\n",
              "      <td>1.0</td>\n",
              "      <td>1.0</td>\n",
              "      <td>3.0</td>\n",
              "      <td>1</td>\n",
              "    </tr>\n",
              "    <tr>\n",
              "      <th>295</th>\n",
              "      <td>41.0</td>\n",
              "      <td>1.0</td>\n",
              "      <td>2.0</td>\n",
              "      <td>120.0</td>\n",
              "      <td>157.0</td>\n",
              "      <td>0.0</td>\n",
              "      <td>0.0</td>\n",
              "      <td>182.0</td>\n",
              "      <td>0.0</td>\n",
              "      <td>0.0</td>\n",
              "      <td>1.0</td>\n",
              "      <td>0.0</td>\n",
              "      <td>3.0</td>\n",
              "      <td>0</td>\n",
              "    </tr>\n",
              "    <tr>\n",
              "      <th>204</th>\n",
              "      <td>43.0</td>\n",
              "      <td>1.0</td>\n",
              "      <td>4.0</td>\n",
              "      <td>110.0</td>\n",
              "      <td>211.0</td>\n",
              "      <td>0.0</td>\n",
              "      <td>0.0</td>\n",
              "      <td>161.0</td>\n",
              "      <td>0.0</td>\n",
              "      <td>0.0</td>\n",
              "      <td>1.0</td>\n",
              "      <td>0.0</td>\n",
              "      <td>7.0</td>\n",
              "      <td>0</td>\n",
              "    </tr>\n",
              "    <tr>\n",
              "      <th>110</th>\n",
              "      <td>61.0</td>\n",
              "      <td>0.0</td>\n",
              "      <td>4.0</td>\n",
              "      <td>145.0</td>\n",
              "      <td>307.0</td>\n",
              "      <td>0.0</td>\n",
              "      <td>2.0</td>\n",
              "      <td>146.0</td>\n",
              "      <td>1.0</td>\n",
              "      <td>1.0</td>\n",
              "      <td>2.0</td>\n",
              "      <td>0.0</td>\n",
              "      <td>7.0</td>\n",
              "      <td>1</td>\n",
              "    </tr>\n",
              "  </tbody>\n",
              "</table>\n",
              "</div>"
            ],
            "text/plain": [
              "      age  sex   cp  trestbps   chol  fbs  restecg  thalac  exang  oldpeak  \\\n",
              "49   53.0  1.0  3.0     130.0  197.0  1.0      2.0   152.0    0.0      1.2   \n",
              "214  52.0  1.0  4.0     112.0  230.0  0.0      0.0   160.0    0.0      0.0   \n",
              "295  41.0  1.0  2.0     120.0  157.0  0.0      0.0   182.0    0.0      0.0   \n",
              "204  43.0  1.0  4.0     110.0  211.0  0.0      0.0   161.0    0.0      0.0   \n",
              "110  61.0  0.0  4.0     145.0  307.0  0.0      2.0   146.0    1.0      1.0   \n",
              "\n",
              "     slope   ca  thal  num  \n",
              "49     3.0  0.0   3.0    0  \n",
              "214    1.0  1.0   3.0    1  \n",
              "295    1.0  0.0   3.0    0  \n",
              "204    1.0  0.0   7.0    0  \n",
              "110    2.0  0.0   7.0    1  "
            ]
          },
          "metadata": {
            "tags": []
          },
          "execution_count": 4
        }
      ]
    },
    {
      "metadata": {
        "id": "Z-KvULPxJLSy",
        "colab_type": "code",
        "colab": {
          "base_uri": "https://localhost:8080/",
          "height": 320
        },
        "outputId": "171011a2-e447-45b8-b984-23594fd16512"
      },
      "cell_type": "code",
      "source": [
        "# Check the descriptive statistics\n",
        "dataframe.describe()"
      ],
      "execution_count": 5,
      "outputs": [
        {
          "output_type": "execute_result",
          "data": {
            "text/html": [
              "<div>\n",
              "<style scoped>\n",
              "    .dataframe tbody tr th:only-of-type {\n",
              "        vertical-align: middle;\n",
              "    }\n",
              "\n",
              "    .dataframe tbody tr th {\n",
              "        vertical-align: top;\n",
              "    }\n",
              "\n",
              "    .dataframe thead th {\n",
              "        text-align: right;\n",
              "    }\n",
              "</style>\n",
              "<table border=\"1\" class=\"dataframe\">\n",
              "  <thead>\n",
              "    <tr style=\"text-align: right;\">\n",
              "      <th></th>\n",
              "      <th>age</th>\n",
              "      <th>sex</th>\n",
              "      <th>cp</th>\n",
              "      <th>trestbps</th>\n",
              "      <th>chol</th>\n",
              "      <th>fbs</th>\n",
              "      <th>restecg</th>\n",
              "      <th>thalac</th>\n",
              "      <th>exang</th>\n",
              "      <th>oldpeak</th>\n",
              "      <th>slope</th>\n",
              "      <th>ca</th>\n",
              "      <th>thal</th>\n",
              "      <th>num</th>\n",
              "    </tr>\n",
              "  </thead>\n",
              "  <tbody>\n",
              "    <tr>\n",
              "      <th>count</th>\n",
              "      <td>303.000000</td>\n",
              "      <td>303.000000</td>\n",
              "      <td>303.000000</td>\n",
              "      <td>303.000000</td>\n",
              "      <td>303.000000</td>\n",
              "      <td>303.000000</td>\n",
              "      <td>303.000000</td>\n",
              "      <td>303.000000</td>\n",
              "      <td>303.000000</td>\n",
              "      <td>303.000000</td>\n",
              "      <td>303.000000</td>\n",
              "      <td>303.000000</td>\n",
              "      <td>303.000000</td>\n",
              "      <td>303.000000</td>\n",
              "    </tr>\n",
              "    <tr>\n",
              "      <th>mean</th>\n",
              "      <td>54.438944</td>\n",
              "      <td>0.679868</td>\n",
              "      <td>3.158416</td>\n",
              "      <td>131.689769</td>\n",
              "      <td>246.693069</td>\n",
              "      <td>0.148515</td>\n",
              "      <td>0.990099</td>\n",
              "      <td>149.607261</td>\n",
              "      <td>0.326733</td>\n",
              "      <td>1.039604</td>\n",
              "      <td>1.600660</td>\n",
              "      <td>0.663366</td>\n",
              "      <td>4.722772</td>\n",
              "      <td>0.937294</td>\n",
              "    </tr>\n",
              "    <tr>\n",
              "      <th>std</th>\n",
              "      <td>9.038662</td>\n",
              "      <td>0.467299</td>\n",
              "      <td>0.960126</td>\n",
              "      <td>17.599748</td>\n",
              "      <td>51.776918</td>\n",
              "      <td>0.356198</td>\n",
              "      <td>0.994971</td>\n",
              "      <td>22.875003</td>\n",
              "      <td>0.469794</td>\n",
              "      <td>1.161075</td>\n",
              "      <td>0.616226</td>\n",
              "      <td>0.934375</td>\n",
              "      <td>1.938383</td>\n",
              "      <td>1.228536</td>\n",
              "    </tr>\n",
              "    <tr>\n",
              "      <th>min</th>\n",
              "      <td>29.000000</td>\n",
              "      <td>0.000000</td>\n",
              "      <td>1.000000</td>\n",
              "      <td>94.000000</td>\n",
              "      <td>126.000000</td>\n",
              "      <td>0.000000</td>\n",
              "      <td>0.000000</td>\n",
              "      <td>71.000000</td>\n",
              "      <td>0.000000</td>\n",
              "      <td>0.000000</td>\n",
              "      <td>1.000000</td>\n",
              "      <td>0.000000</td>\n",
              "      <td>3.000000</td>\n",
              "      <td>0.000000</td>\n",
              "    </tr>\n",
              "    <tr>\n",
              "      <th>25%</th>\n",
              "      <td>48.000000</td>\n",
              "      <td>0.000000</td>\n",
              "      <td>3.000000</td>\n",
              "      <td>120.000000</td>\n",
              "      <td>211.000000</td>\n",
              "      <td>0.000000</td>\n",
              "      <td>0.000000</td>\n",
              "      <td>133.500000</td>\n",
              "      <td>0.000000</td>\n",
              "      <td>0.000000</td>\n",
              "      <td>1.000000</td>\n",
              "      <td>0.000000</td>\n",
              "      <td>3.000000</td>\n",
              "      <td>0.000000</td>\n",
              "    </tr>\n",
              "    <tr>\n",
              "      <th>50%</th>\n",
              "      <td>56.000000</td>\n",
              "      <td>1.000000</td>\n",
              "      <td>3.000000</td>\n",
              "      <td>130.000000</td>\n",
              "      <td>241.000000</td>\n",
              "      <td>0.000000</td>\n",
              "      <td>1.000000</td>\n",
              "      <td>153.000000</td>\n",
              "      <td>0.000000</td>\n",
              "      <td>0.800000</td>\n",
              "      <td>2.000000</td>\n",
              "      <td>0.000000</td>\n",
              "      <td>3.000000</td>\n",
              "      <td>0.000000</td>\n",
              "    </tr>\n",
              "    <tr>\n",
              "      <th>75%</th>\n",
              "      <td>61.000000</td>\n",
              "      <td>1.000000</td>\n",
              "      <td>4.000000</td>\n",
              "      <td>140.000000</td>\n",
              "      <td>275.000000</td>\n",
              "      <td>0.000000</td>\n",
              "      <td>2.000000</td>\n",
              "      <td>166.000000</td>\n",
              "      <td>1.000000</td>\n",
              "      <td>1.600000</td>\n",
              "      <td>2.000000</td>\n",
              "      <td>1.000000</td>\n",
              "      <td>7.000000</td>\n",
              "      <td>2.000000</td>\n",
              "    </tr>\n",
              "    <tr>\n",
              "      <th>max</th>\n",
              "      <td>77.000000</td>\n",
              "      <td>1.000000</td>\n",
              "      <td>4.000000</td>\n",
              "      <td>200.000000</td>\n",
              "      <td>564.000000</td>\n",
              "      <td>1.000000</td>\n",
              "      <td>2.000000</td>\n",
              "      <td>202.000000</td>\n",
              "      <td>1.000000</td>\n",
              "      <td>6.200000</td>\n",
              "      <td>3.000000</td>\n",
              "      <td>3.000000</td>\n",
              "      <td>7.000000</td>\n",
              "      <td>4.000000</td>\n",
              "    </tr>\n",
              "  </tbody>\n",
              "</table>\n",
              "</div>"
            ],
            "text/plain": [
              "              age         sex          cp    trestbps        chol         fbs  \\\n",
              "count  303.000000  303.000000  303.000000  303.000000  303.000000  303.000000   \n",
              "mean    54.438944    0.679868    3.158416  131.689769  246.693069    0.148515   \n",
              "std      9.038662    0.467299    0.960126   17.599748   51.776918    0.356198   \n",
              "min     29.000000    0.000000    1.000000   94.000000  126.000000    0.000000   \n",
              "25%     48.000000    0.000000    3.000000  120.000000  211.000000    0.000000   \n",
              "50%     56.000000    1.000000    3.000000  130.000000  241.000000    0.000000   \n",
              "75%     61.000000    1.000000    4.000000  140.000000  275.000000    0.000000   \n",
              "max     77.000000    1.000000    4.000000  200.000000  564.000000    1.000000   \n",
              "\n",
              "          restecg      thalac       exang     oldpeak       slope          ca  \\\n",
              "count  303.000000  303.000000  303.000000  303.000000  303.000000  303.000000   \n",
              "mean     0.990099  149.607261    0.326733    1.039604    1.600660    0.663366   \n",
              "std      0.994971   22.875003    0.469794    1.161075    0.616226    0.934375   \n",
              "min      0.000000   71.000000    0.000000    0.000000    1.000000    0.000000   \n",
              "25%      0.000000  133.500000    0.000000    0.000000    1.000000    0.000000   \n",
              "50%      1.000000  153.000000    0.000000    0.800000    2.000000    0.000000   \n",
              "75%      2.000000  166.000000    1.000000    1.600000    2.000000    1.000000   \n",
              "max      2.000000  202.000000    1.000000    6.200000    3.000000    3.000000   \n",
              "\n",
              "             thal         num  \n",
              "count  303.000000  303.000000  \n",
              "mean     4.722772    0.937294  \n",
              "std      1.938383    1.228536  \n",
              "min      3.000000    0.000000  \n",
              "25%      3.000000    0.000000  \n",
              "50%      3.000000    0.000000  \n",
              "75%      7.000000    2.000000  \n",
              "max      7.000000    4.000000  "
            ]
          },
          "metadata": {
            "tags": []
          },
          "execution_count": 5
        }
      ]
    },
    {
      "metadata": {
        "id": "te4_0TjCPFhX",
        "colab_type": "text"
      },
      "cell_type": "markdown",
      "source": [
        "The `dataframe` contains both the data (input) and the labels(output). Next we separate the input from the outputs and preprocess them. \n",
        "\n",
        "Usually the data columns have totally different scaling (see the descriptive statistics above). The neural networks usually wants the data be either normalized or scaled. Scikit-learn have [several options to preprocess the data](https://scikit-learn.org/stable/modules/preprocessing.html#). In this case we use simple min-max scaling and pandas own functions."
      ]
    },
    {
      "metadata": {
        "id": "pPVxn0AMJPTs",
        "colab_type": "code",
        "colab": {
          "base_uri": "https://localhost:8080/",
          "height": 320
        },
        "outputId": "ac762b90-9fec-4f27-bfff-d9eafd10da7a"
      },
      "cell_type": "code",
      "source": [
        "# Select the data (input) columns\n",
        "data_list = ['age', 'sex', 'cp','trestbps', 'chol', 'fbs','restecg',\n",
        "             'thalac','exang','oldpeak','slope','ca','thal']\n",
        "data = dataframe[data_list]\n",
        "\n",
        "# Scale the data\n",
        "data_min = data.min()\n",
        "data_max = data.max()\n",
        "data_norm = (data - data_min)/(data_max - data_min)\n",
        "                               \n",
        "# Check descriptive statistics of normalized data\n",
        "data_norm.describe()"
      ],
      "execution_count": 6,
      "outputs": [
        {
          "output_type": "execute_result",
          "data": {
            "text/html": [
              "<div>\n",
              "<style scoped>\n",
              "    .dataframe tbody tr th:only-of-type {\n",
              "        vertical-align: middle;\n",
              "    }\n",
              "\n",
              "    .dataframe tbody tr th {\n",
              "        vertical-align: top;\n",
              "    }\n",
              "\n",
              "    .dataframe thead th {\n",
              "        text-align: right;\n",
              "    }\n",
              "</style>\n",
              "<table border=\"1\" class=\"dataframe\">\n",
              "  <thead>\n",
              "    <tr style=\"text-align: right;\">\n",
              "      <th></th>\n",
              "      <th>age</th>\n",
              "      <th>sex</th>\n",
              "      <th>cp</th>\n",
              "      <th>trestbps</th>\n",
              "      <th>chol</th>\n",
              "      <th>fbs</th>\n",
              "      <th>restecg</th>\n",
              "      <th>thalac</th>\n",
              "      <th>exang</th>\n",
              "      <th>oldpeak</th>\n",
              "      <th>slope</th>\n",
              "      <th>ca</th>\n",
              "      <th>thal</th>\n",
              "    </tr>\n",
              "  </thead>\n",
              "  <tbody>\n",
              "    <tr>\n",
              "      <th>count</th>\n",
              "      <td>303.000000</td>\n",
              "      <td>303.000000</td>\n",
              "      <td>303.000000</td>\n",
              "      <td>303.000000</td>\n",
              "      <td>303.000000</td>\n",
              "      <td>303.000000</td>\n",
              "      <td>303.000000</td>\n",
              "      <td>303.000000</td>\n",
              "      <td>303.000000</td>\n",
              "      <td>303.000000</td>\n",
              "      <td>303.000000</td>\n",
              "      <td>303.000000</td>\n",
              "      <td>303.000000</td>\n",
              "    </tr>\n",
              "    <tr>\n",
              "      <th>mean</th>\n",
              "      <td>0.529978</td>\n",
              "      <td>0.679868</td>\n",
              "      <td>0.719472</td>\n",
              "      <td>0.355564</td>\n",
              "      <td>0.275555</td>\n",
              "      <td>0.148515</td>\n",
              "      <td>0.495050</td>\n",
              "      <td>0.600055</td>\n",
              "      <td>0.326733</td>\n",
              "      <td>0.167678</td>\n",
              "      <td>0.300330</td>\n",
              "      <td>0.221122</td>\n",
              "      <td>0.430693</td>\n",
              "    </tr>\n",
              "    <tr>\n",
              "      <th>std</th>\n",
              "      <td>0.188305</td>\n",
              "      <td>0.467299</td>\n",
              "      <td>0.320042</td>\n",
              "      <td>0.166035</td>\n",
              "      <td>0.118212</td>\n",
              "      <td>0.356198</td>\n",
              "      <td>0.497486</td>\n",
              "      <td>0.174618</td>\n",
              "      <td>0.469794</td>\n",
              "      <td>0.187270</td>\n",
              "      <td>0.308113</td>\n",
              "      <td>0.311458</td>\n",
              "      <td>0.484596</td>\n",
              "    </tr>\n",
              "    <tr>\n",
              "      <th>min</th>\n",
              "      <td>0.000000</td>\n",
              "      <td>0.000000</td>\n",
              "      <td>0.000000</td>\n",
              "      <td>0.000000</td>\n",
              "      <td>0.000000</td>\n",
              "      <td>0.000000</td>\n",
              "      <td>0.000000</td>\n",
              "      <td>0.000000</td>\n",
              "      <td>0.000000</td>\n",
              "      <td>0.000000</td>\n",
              "      <td>0.000000</td>\n",
              "      <td>0.000000</td>\n",
              "      <td>0.000000</td>\n",
              "    </tr>\n",
              "    <tr>\n",
              "      <th>25%</th>\n",
              "      <td>0.395833</td>\n",
              "      <td>0.000000</td>\n",
              "      <td>0.666667</td>\n",
              "      <td>0.245283</td>\n",
              "      <td>0.194064</td>\n",
              "      <td>0.000000</td>\n",
              "      <td>0.000000</td>\n",
              "      <td>0.477099</td>\n",
              "      <td>0.000000</td>\n",
              "      <td>0.000000</td>\n",
              "      <td>0.000000</td>\n",
              "      <td>0.000000</td>\n",
              "      <td>0.000000</td>\n",
              "    </tr>\n",
              "    <tr>\n",
              "      <th>50%</th>\n",
              "      <td>0.562500</td>\n",
              "      <td>1.000000</td>\n",
              "      <td>0.666667</td>\n",
              "      <td>0.339623</td>\n",
              "      <td>0.262557</td>\n",
              "      <td>0.000000</td>\n",
              "      <td>0.500000</td>\n",
              "      <td>0.625954</td>\n",
              "      <td>0.000000</td>\n",
              "      <td>0.129032</td>\n",
              "      <td>0.500000</td>\n",
              "      <td>0.000000</td>\n",
              "      <td>0.000000</td>\n",
              "    </tr>\n",
              "    <tr>\n",
              "      <th>75%</th>\n",
              "      <td>0.666667</td>\n",
              "      <td>1.000000</td>\n",
              "      <td>1.000000</td>\n",
              "      <td>0.433962</td>\n",
              "      <td>0.340183</td>\n",
              "      <td>0.000000</td>\n",
              "      <td>1.000000</td>\n",
              "      <td>0.725191</td>\n",
              "      <td>1.000000</td>\n",
              "      <td>0.258065</td>\n",
              "      <td>0.500000</td>\n",
              "      <td>0.333333</td>\n",
              "      <td>1.000000</td>\n",
              "    </tr>\n",
              "    <tr>\n",
              "      <th>max</th>\n",
              "      <td>1.000000</td>\n",
              "      <td>1.000000</td>\n",
              "      <td>1.000000</td>\n",
              "      <td>1.000000</td>\n",
              "      <td>1.000000</td>\n",
              "      <td>1.000000</td>\n",
              "      <td>1.000000</td>\n",
              "      <td>1.000000</td>\n",
              "      <td>1.000000</td>\n",
              "      <td>1.000000</td>\n",
              "      <td>1.000000</td>\n",
              "      <td>1.000000</td>\n",
              "      <td>1.000000</td>\n",
              "    </tr>\n",
              "  </tbody>\n",
              "</table>\n",
              "</div>"
            ],
            "text/plain": [
              "              age         sex          cp    trestbps        chol         fbs  \\\n",
              "count  303.000000  303.000000  303.000000  303.000000  303.000000  303.000000   \n",
              "mean     0.529978    0.679868    0.719472    0.355564    0.275555    0.148515   \n",
              "std      0.188305    0.467299    0.320042    0.166035    0.118212    0.356198   \n",
              "min      0.000000    0.000000    0.000000    0.000000    0.000000    0.000000   \n",
              "25%      0.395833    0.000000    0.666667    0.245283    0.194064    0.000000   \n",
              "50%      0.562500    1.000000    0.666667    0.339623    0.262557    0.000000   \n",
              "75%      0.666667    1.000000    1.000000    0.433962    0.340183    0.000000   \n",
              "max      1.000000    1.000000    1.000000    1.000000    1.000000    1.000000   \n",
              "\n",
              "          restecg      thalac       exang     oldpeak       slope          ca  \\\n",
              "count  303.000000  303.000000  303.000000  303.000000  303.000000  303.000000   \n",
              "mean     0.495050    0.600055    0.326733    0.167678    0.300330    0.221122   \n",
              "std      0.497486    0.174618    0.469794    0.187270    0.308113    0.311458   \n",
              "min      0.000000    0.000000    0.000000    0.000000    0.000000    0.000000   \n",
              "25%      0.000000    0.477099    0.000000    0.000000    0.000000    0.000000   \n",
              "50%      0.500000    0.625954    0.000000    0.129032    0.500000    0.000000   \n",
              "75%      1.000000    0.725191    1.000000    0.258065    0.500000    0.333333   \n",
              "max      1.000000    1.000000    1.000000    1.000000    1.000000    1.000000   \n",
              "\n",
              "             thal  \n",
              "count  303.000000  \n",
              "mean     0.430693  \n",
              "std      0.484596  \n",
              "min      0.000000  \n",
              "25%      0.000000  \n",
              "50%      0.000000  \n",
              "75%      1.000000  \n",
              "max      1.000000  "
            ]
          },
          "metadata": {
            "tags": []
          },
          "execution_count": 6
        }
      ]
    },
    {
      "metadata": {
        "id": "0lNKmLSPPCPo",
        "colab_type": "text"
      },
      "cell_type": "markdown",
      "source": [
        "Next we want to preprocess the labels (output). As the outputs have several categories (from 0 to 4) we need to use keras `to_categorical` function to convert the integers into binary coded ([one hot](https://en.wikipedia.org/wiki/One-hot)) categories. The following code shows \n",
        "- how to pick the output column from the dataframe,\n",
        "- plot the frequency histogram of the label values, and\n",
        "- \"one-hot\" code the label categories"
      ]
    },
    {
      "metadata": {
        "id": "KLN_qxPQJXSp",
        "colab_type": "code",
        "colab": {
          "base_uri": "https://localhost:8080/",
          "height": 388
        },
        "outputId": "b55269be-14ec-462c-da14-a095d93957ad"
      },
      "cell_type": "code",
      "source": [
        "# Select labels (output)\n",
        "labels = dataframe['num']\n",
        "\n",
        "# Plot the histogram of the labels (severity of the disease)\n",
        "plt.hist(labels, bins = [-0.5, 0.5, 1.5, 2.5, 3.5, 4.5])\n",
        "plt.xlabel('Severity of the disease')\n",
        "plt.ylabel('Frequency')\n",
        "plt.title('Histogram of labels')\n",
        "show()\n",
        "\n",
        "# Code labels to categorical output\n",
        "one_hot_labels = to_categorical(labels)\n",
        "one_hot_labels[:5]"
      ],
      "execution_count": 7,
      "outputs": [
        {
          "output_type": "display_data",
          "data": {
            "image/png": "[encoded data removed]",
            "text/plain": [
              "<Figure size 432x288 with 1 Axes>"
            ]
          },
          "metadata": {
            "tags": []
          }
        },
        {
          "output_type": "execute_result",
          "data": {
            "text/plain": [
              "array([[ 0.000,  0.000,  0.000,  1.000,  0.000],\n",
              "       [ 1.000,  0.000,  0.000,  0.000,  0.000],\n",
              "       [ 0.000,  1.000,  0.000,  0.000,  0.000],\n",
              "       [ 0.000,  0.000,  1.000,  0.000,  0.000],\n",
              "       [ 0.000,  1.000,  0.000,  0.000,  0.000]], dtype=float32)"
            ]
          },
          "metadata": {
            "tags": []
          },
          "execution_count": 7
        }
      ]
    },
    {
      "metadata": {
        "id": "8-rFsdnpR2KJ",
        "colab_type": "text"
      },
      "cell_type": "markdown",
      "source": [
        "Next we split the data to training and validation data. The first 200 rows are used for training and the rest for validation. Training-validation ratio is thus 200:103, roughly 2:1. "
      ]
    },
    {
      "metadata": {
        "id": "NwVUnTlYJjM6",
        "colab_type": "code",
        "colab": {
          "base_uri": "https://localhost:8080/",
          "height": 148
        },
        "outputId": "f52a1404-0af6-4113-bde1-00b8e627589d"
      },
      "cell_type": "code",
      "source": [
        "# Split the data and labels into training and validation sets\n",
        "train_data = data_norm[:200]\n",
        "val_data = data_norm[200:]\n",
        "\n",
        "train_labels = one_hot_labels[:200]\n",
        "val_labels = one_hot_labels[200:]\n",
        "\n",
        "# Check the shapes of the data\n",
        "print('Shape of')\n",
        "print('  full data:        ', data_norm.shape)\n",
        "print('  train data:       ',train_data.shape)\n",
        "print('  validation data:  ',val_data.shape)\n",
        "print('  one-hot-labels:   ', one_hot_labels.shape)\n",
        "print('  train labels:     ',train_labels.shape)\n",
        "print('  validation labels:',val_labels.shape)"
      ],
      "execution_count": 8,
      "outputs": [
        {
          "output_type": "stream",
          "text": [
            "Shape of\n",
            "  full data:         (303, 13)\n",
            "  train data:        (200, 13)\n",
            "  validation data:   (103, 13)\n",
            "  one-hot-labels:    (303, 5)\n",
            "  train labels:      (200, 5)\n",
            "  validation labels: (103, 5)\n"
          ],
          "name": "stdout"
        }
      ]
    },
    {
      "metadata": {
        "id": "__LvEQ1SSONZ",
        "colab_type": "text"
      },
      "cell_type": "markdown",
      "source": [
        "### The model\n",
        "The model is very simple sequential architecture with two layers of neurons. The input (13) is fully connected to 9 middle neurons, which are then connected to 5 output neurons. \n",
        "\n",
        "We use `adam` optimizer and standard `categorical_crossentropy` loss-function and `accuracy` metrics."
      ]
    },
    {
      "metadata": {
        "id": "JhyMNb--J-ro",
        "colab_type": "code",
        "colab": {
          "base_uri": "https://localhost:8080/",
          "height": 223
        },
        "outputId": "4e9043a4-089f-4555-b067-c1c5da985c00"
      },
      "cell_type": "code",
      "source": [
        "# Build the model\n",
        "model = models.Sequential()\n",
        "model.add(layers.Dense(9, activation='relu', input_shape=(13,)))\n",
        "model.add(layers.Dense(5, activation='softmax'))\n",
        "model.summary()\n",
        "\n",
        "# Compile the model\n",
        "model.compile(optimizer = 'adam',\n",
        "                loss = 'categorical_crossentropy',\n",
        "                metrics = ['accuracy'])"
      ],
      "execution_count": 9,
      "outputs": [
        {
          "output_type": "stream",
          "text": [
            "_________________________________________________________________\n",
            "Layer (type)                 Output Shape              Param #   \n",
            "=================================================================\n",
            "dense_3 (Dense)              (None, 9)                 126       \n",
            "_________________________________________________________________\n",
            "dense_4 (Dense)              (None, 5)                 50        \n",
            "=================================================================\n",
            "Total params: 176\n",
            "Trainable params: 176\n",
            "Non-trainable params: 0\n",
            "_________________________________________________________________\n"
          ],
          "name": "stdout"
        }
      ]
    },
    {
      "metadata": {
        "id": "NBUdXejvSszI",
        "colab_type": "text"
      },
      "cell_type": "markdown",
      "source": [
        "### Training\n",
        "In the training we run 100 epochs and use batch size of 16. We suppress all printing during the training (verbose = 0). The validation data is given separately.\n",
        "\n",
        "Alternatively, you could give all data in data and labels and use [`validation_split = 0.33`](https://keras.io/models/sequential/#fit) to say that separate 33% of the data for validation."
      ]
    },
    {
      "metadata": {
        "id": "Zvw6fqJLKDAr",
        "colab_type": "code",
        "colab": {
          "base_uri": "https://localhost:8080/",
          "height": 36
        },
        "outputId": "8b1d3ac3-1eb4-4195-e6d8-cdb9337b5ca0"
      },
      "cell_type": "code",
      "source": [
        "# Fit the model with the data and keep record on elapsed time\n",
        "t_start = time.time()\n",
        "history = model.fit(train_data, train_labels, \n",
        "                    epochs = 100, \n",
        "                    batch_size = 16, \n",
        "                    verbose = 0,\n",
        "                    validation_data = (val_data, val_labels))\n",
        "t_end = time.time()\n",
        "print('Elapsed time: {:.2f} seconds'.format(t_end - t_start))"
      ],
      "execution_count": 10,
      "outputs": [
        {
          "output_type": "stream",
          "text": [
            "Elapsed time: 1.89 seconds\n"
          ],
          "name": "stdout"
        }
      ]
    },
    {
      "metadata": {
        "id": "rGqR0mIFTmIH",
        "colab_type": "text"
      },
      "cell_type": "markdown",
      "source": [
        "The training history is stored into variable `history`. It contains a structure `history.history` and separate variables for training and validation loss and accuracies. We extract those variables from history-structure and give them separate names.\n",
        "\n",
        "In addition, we create a ascending list of epochs for plotting purposes."
      ]
    },
    {
      "metadata": {
        "id": "vrECq84CKJOX",
        "colab_type": "code",
        "colab": {}
      },
      "cell_type": "code",
      "source": [
        "# Get the training data\n",
        "history_dict = history.history\n",
        "loss_values = history_dict['loss']\n",
        "val_loss_values = history_dict['val_loss']\n",
        "acc_values = history_dict['acc']\n",
        "val_acc_values = history_dict['val_acc']\n",
        "epochs = range(1, len(loss_values) + 1)"
      ],
      "execution_count": 0,
      "outputs": []
    },
    {
      "metadata": {
        "id": "_mg5JQpvUgEo",
        "colab_type": "text"
      },
      "cell_type": "markdown",
      "source": [
        "### Results\n",
        "Now we are ready to visualize the training results. First the loss-function and next the accuracy."
      ]
    },
    {
      "metadata": {
        "id": "gPRViYOaKff4",
        "colab_type": "code",
        "colab": {
          "base_uri": "https://localhost:8080/",
          "height": 283
        },
        "outputId": "bbd91e61-c4c2-446c-c076-a672a17af539"
      },
      "cell_type": "code",
      "source": [
        "# Visualize the training process: loss function\n",
        "plt.figure()\n",
        "plt.plot(epochs, loss_values, 'b', label='Training loss')\n",
        "plt.plot(epochs, val_loss_values, 'r', label='Validation loss')\n",
        "plt.xlabel('Epochs')\n",
        "plt.ylabel('Loss')\n",
        "plt.ylim([0, 2])\n",
        "plt.legend()\n",
        "plt.show()"
      ],
      "execution_count": 12,
      "outputs": [
        {
          "output_type": "display_data",
          "data": {
            "image/png": "[encoded data removed]",
            "text/plain": [
              "<Figure size 432x288 with 1 Axes>"
            ]
          },
          "metadata": {
            "tags": []
          }
        }
      ]
    },
    {
      "metadata": {
        "id": "v1zsv9UyKiln",
        "colab_type": "code",
        "colab": {
          "base_uri": "https://localhost:8080/",
          "height": 283
        },
        "outputId": "8f8c276d-f06a-43f6-a647-db3804d462f7"
      },
      "cell_type": "code",
      "source": [
        "# Visualize the accuracy\n",
        "plt.figure()\n",
        "plt.plot(epochs, acc_values, 'b', label='Training acc')\n",
        "plt.plot(epochs, val_acc_values, 'r', label='Validation acc')\n",
        "plt.xlabel('Epochs')\n",
        "plt.ylabel('Accuracy')\n",
        "plt.ylim([0, 1])\n",
        "plt.legend()\n",
        "plt.show()"
      ],
      "execution_count": 13,
      "outputs": [
        {
          "output_type": "display_data",
          "data": {
            "image/png": "[encoded data removed]",
            "text/plain": [
              "<Figure size 432x288 with 1 Axes>"
            ]
          },
          "metadata": {
            "tags": []
          }
        }
      ]
    },
    {
      "metadata": {
        "id": "kx7BCD3bUmRY",
        "colab_type": "text"
      },
      "cell_type": "markdown",
      "source": [
        "### Confusion matrix\n",
        "Lastly we calculate the [confusion matrix](https://en.wikipedia.org/wiki/Confusion_matrix) results. \n",
        "\n",
        "Very simple classifier would classify all cases as normals (label = 0). However, we would make false predictions in all cases where "
      ]
    },
    {
      "metadata": {
        "id": "NNcYxM7hKmcq",
        "colab_type": "code",
        "colab": {
          "base_uri": "https://localhost:8080/",
          "height": 298
        },
        "outputId": "9c1edfb5-65ce-4e80-aba8-87b0ebc0c506"
      },
      "cell_type": "code",
      "source": [
        "# Print total accuracy and confusion matrix\n",
        "val_predicts = model.predict(data_norm)\n",
        "y_pred = argmax(val_predicts, axis = 1)\n",
        "\n",
        "# Best guess = Guess that all are normal\n",
        "simple_guess = zeros(len(y_pred))\n",
        "cm0 = confusion_matrix(labels, simple_guess)\n",
        "#Transpose the matrix if you want real values be in x-axis\n",
        "#cm0 = np.transpose(cm0)\n",
        "true0 = np.trace(cm0)\n",
        "N = len(labels)\n",
        "acc0 = true0/N\n",
        "print('Simple guess accuracy: {:.4f}'.format(acc0))\n",
        "print('Confusion matrix:')\n",
        "print(cm0)\n",
        "\n",
        "# Our model results\n",
        "print(' ')\n",
        "cm1 = confusion_matrix(labels, y_pred)\n",
        "#cm1 = transpose(cm1)\n",
        "true1 = np.trace(cm1)\n",
        "N = len(labels)\n",
        "acc1 = true1/N\n",
        "print('Total accuracy: {:.4f}'.format(acc1))\n",
        "print('Confusion matrix:')\n",
        "print(cm1)"
      ],
      "execution_count": 14,
      "outputs": [
        {
          "output_type": "stream",
          "text": [
            "Simple guess accuracy: 0.5413\n",
            "Confusion matrix:\n",
            "[[164   0   0   0   0]\n",
            " [ 55   0   0   0   0]\n",
            " [ 36   0   0   0   0]\n",
            " [ 35   0   0   0   0]\n",
            " [ 13   0   0   0   0]]\n",
            " \n",
            "Total accuracy: 0.6370\n",
            "Confusion matrix:\n",
            "[[156   3   3   2   0]\n",
            " [ 31   9   2  13   0]\n",
            " [  9   6   4  17   0]\n",
            " [  7   3   1  24   0]\n",
            " [  0   7   0   6   0]]\n"
          ],
          "name": "stdout"
        }
      ]
    },
    {
      "metadata": {
        "id": "GaIbsRS0Y1Kk",
        "colab_type": "text"
      },
      "cell_type": "markdown",
      "source": [
        "### More metrics\n",
        "Lastly we calculate [more metrics from the confusion matrix](https://en.wikipedia.org/wiki/Confusion_matrix)\n",
        "\n",
        "See also: [Model evaluation: Precision, recall, and F-measures](https://scikit-learn.org/stable/modules/model_evaluation.html#precision-recall-f-measure-metrics)"
      ]
    },
    {
      "metadata": {
        "id": "Gn1cyxpzKpf4",
        "colab_type": "code",
        "colab": {
          "base_uri": "https://localhost:8080/",
          "height": 111
        },
        "outputId": "d7607c6f-3f1b-4669-a00d-4f6b61d5310d"
      },
      "cell_type": "code",
      "source": [
        "# Calculate precision, recall, fscore and support\n",
        "# Suppress warnings as the f-score is zero\n",
        "with warnings.catch_warnings():\n",
        "    warnings.simplefilter(\"ignore\")\n",
        "    p, r, f, s = precision_recall_fscore_support(labels, y_pred)\n",
        "\n",
        "# Print precision, recall, fscore and support  \n",
        "np.set_printoptions(formatter={'float': '{: 0.3f}'.format})\n",
        "print('Support:\\n', s)\n",
        "print('Precision:', p)\n",
        "print('Recall:   ', r)\n",
        "print('F-score:  ', f)"
      ],
      "execution_count": 15,
      "outputs": [
        {
          "output_type": "stream",
          "text": [
            "Support:\n",
            " [164  55  36  35  13]\n",
            "Precision: [ 0.768  0.321  0.400  0.387  0.000]\n",
            "Recall:    [ 0.951  0.164  0.111  0.686  0.000]\n",
            "F-score:   [ 0.850  0.217  0.174  0.495  0.000]\n"
          ],
          "name": "stdout"
        }
      ]
    },
    {
      "metadata": {
        "id": "JzrXoLEfZ_1k",
        "colab_type": "text"
      },
      "cell_type": "markdown",
      "source": [
        "### Conclusions\n",
        "We should do something in order to get the results better, but what?"
      ]
    }
  ]
}